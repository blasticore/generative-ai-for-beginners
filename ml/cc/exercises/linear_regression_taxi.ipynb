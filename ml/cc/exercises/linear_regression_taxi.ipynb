{
  "cells": [
    {
      "cell_type": "code",
      "execution_count": null,
      "metadata": {
        "cellView": "form",
        "id": "X53vZqc7PxCA"
      },
      "outputs": [],
      "source": [
        "#@title Copyright 2023 Google LLC. Double-click here for license information.\n",
        "# Licensed under the Apache License, Version 2.0 (the \"License\");\n",
        "# you may not use this file except in compliance with the License.\n",
        "# You may obtain a copy of the License at\n",
        "#\n",
        "# https://www.apache.org/licenses/LICENSE-2.0\n",
        "#\n",
        "# Unless required by applicable law or agreed to in writing, software\n",
        "# distributed under the License is distributed on an \"AS IS\" BASIS,\n",
        "# WITHOUT WARRANTIES OR CONDITIONS OF ANY KIND, either express or implied.\n",
        "# See the License for the specific language governing permissions and\n",
        "# limitations under the License."
      ]
    },
    {
      "cell_type": "markdown",
      "metadata": {
        "id": "mWCXBrPgQD0P"
      },
      "source": [
        "# Colabs\n",
        "\n",
        "Machine Learning Crash Course uses Colaboratories (Colabs) for all programming exercises. Colab is Google's implementation of [Jupyter Notebook](https://jupyter.org/). For more information about Colabs and how to use them, go to [Welcome to Colaboratory](https://research.google.com/colaboratory).\n",
        "\n",
        "# Linear Regression\n",
        "In this Colab you will use a real dataset to train a model to predict the fare of a taxi ride in Chicago, Illinois.\n",
        "\n",
        "## Learning Objectives\n",
        "After completing this Colab, you'll be able to:\n",
        "\n",
        "  * Read a .csv file into a [pandas](https://developers.google.com/machine-learning/glossary/#pandas) DataFrame.\n",
        "  * Explore a [dataset](https://developers.google.com/machine-learning/glossary/#data_set) with Python visualization libraries.\n",
        "  * Experiment with different [features](https://developers.google.com/machine-learning/glossary/#feature) to build a linear regression model.\n",
        "  * Tune the model's [hyperparameters](https://developers.google.com/machine-learning/glossary/#hyperparameter).\n",
        "  * Compare training runs using [root mean squared error](https://developers.google.com/machine-learning/glossary/#root-mean-squared-error-rmse) and [loss curves](https://developers.google.com/machine-learning/glossary/#loss-curve).\n",
        "\n",
        "## Dataset Description\n",
        "The [dataset for this exercise](https://storage.mtls.cloud.google.com/mlcc-nextgen-internal/chicago_taxi_train.csv) is derived from the [City of Chicago Taxi Trips dataset](https://data.cityofchicago.org/Transportation/Taxi-Trips/wrvz-psew). The data for this exercise is a subset of the Taxi Trips data, and focuses on a two-day period in May of 2022."
      ]
    },
    {
      "cell_type": "markdown",
      "metadata": {
        "id": "bBJQc5TgRrFx"
      },
      "source": [
        "# Part 1 - Setup Exercise\n",
        "\n",
        "\n",
        "---\n",
        "\n"
      ]
    },
    {
      "cell_type": "markdown",
      "metadata": {
        "id": "V9pkosc63-63"
      },
      "source": [
        "## Load required modules\n",
        "\n",
        "This exercise depends on several Python libraries to help with data manipulation, machine learning tasks, and data visualization.\n",
        "\n",
        "**Instructions**\n",
        "1. Run the **Load dependencies** code cell (below)."
      ]
    },
    {
      "cell_type": "code",
      "execution_count": null,
      "metadata": {
        "cellView": "form",
        "id": "wHBXW8ob16z3"
      },
      "outputs": [],
      "source": [
        "#@title Code - Load dependencies\n",
        "\n",
        "#general\n",
        "import io\n",
        "\n",
        "# data\n",
        "import numpy as np\n",
        "import pandas as pd\n",
        "\n",
        "# machine learning\n",
        "import keras\n",
        "\n",
        "# data visualization\n",
        "import plotly.express as px\n",
        "from plotly.subplots import make_subplots\n",
        "import plotly.graph_objects as go\n",
        "import seaborn as sns"
      ]
    },
    {
      "cell_type": "markdown",
      "metadata": {
        "id": "sgR4YRjj5T-b"
      },
      "source": [
        "## Load the dataset\n",
        "\n",
        "\n",
        "The following code cell loads the dataset and creates a pandas DataFrame.\n",
        "\n",
        "You can think of a DataFrame like a spreadsheet with rows and columns. The rows represent individual data examples, and the columns represent the attributes associated with each example."
      ]
    },
    {
      "cell_type": "code",
      "execution_count": null,
      "metadata": {
        "id": "abmswn6USJjQ"
      },
      "outputs": [],
      "source": [
        "# @title\n",
        "chicago_taxi_dataset = pd.read_csv(\"https://download.mlcc.google.com/mledu-datasets/chicago_taxi_train.csv\")"
      ]
    },
    {
      "cell_type": "markdown",
      "metadata": {
        "id": "iKE0s1hNQ4H9"
      },
      "source": [
        "## Update the dataframe\n",
        "\n",
        "The following code cell updates the DataFrame to use only specific columns from the dataset.\n",
        "\n",
        "Notice that that output shows just a sample of the dataset, but there should be enough information for you to identify the features associated with the dataset, and have a look at the actual data for a few examples."
      ]
    },
    {
      "cell_type": "code",
      "execution_count": null,
      "metadata": {
        "cellView": "form",
        "id": "YuLz6IgGP2LE"
      },
      "outputs": [],
      "source": [
        "#@title Code - Read dataset\n",
        "\n",
        "# Updates dataframe to use specific columns.\n",
        "training_df = chicago_taxi_dataset[['TRIP_MILES', 'TRIP_SECONDS', 'FARE', 'COMPANY', 'PAYMENT_TYPE', 'TIP_RATE']]\n",
        "\n",
        "print('Read dataset completed successfully.')\n",
        "print('Total number of rows: {0}\\n\\n'.format(len(training_df.index)))\n",
        "training_df.head(200)"
      ]
    },
    {
      "cell_type": "markdown",
      "metadata": {
        "id": "RUL471vSR28O"
      },
      "source": [
        "# Part 2 - Dataset Exploration\n",
        "\n",
        "\n",
        "---\n",
        "\n"
      ]
    },
    {
      "cell_type": "markdown",
      "metadata": {
        "id": "7mhqzPIS9nFv"
      },
      "source": [
        "## View dataset statistics\n",
        "\n",
        "A large part of most machine learning projects is getting to know your data. In this step, you will use the ``DataFrame.describe`` method to view descriptive statistics about the dataset and answer some important questions about the data.\n",
        "\n",
        "**Instructions**\n",
        "1. Run the **View dataset statistics** code cell.\n",
        "1. Inspect the output and answer these questions:\n",
        "  * What is the maximum fare?\n",
        "  * What is the mean distance across all trips?\n",
        "  * How many cab companies are in the dataset?\n",
        "  * What is the most frequent payment type?\n",
        "  * Are any features missing data?\n",
        "1. Run the code **View answers to dataset statistics** code cell to check your answers.\n",
        "\n",
        "\n",
        "You might be wondering why there are groups of `NaN` (not a number) values listed in the output. When working with data in Python, you may see this value if the result of a calculation can not be computed or if there is missing information. For example, in the taxi dataset `PAYMENT_TYPE` and `COMPANY` are non-numeric, categorical features; numeric information such as mean and max do not make sense for categorical features so the output displays `NaN`."
      ]
    },
    {
      "cell_type": "code",
      "execution_count": null,
      "metadata": {
        "cellView": "form",
        "id": "pkuQNjgoAKYt"
      },
      "outputs": [],
      "source": [
        "#@title Code - View dataset statistics\n",
        "\n",
        "print('Total number of rows: {0}\\n\\n'.format(len(training_df.index)))\n",
        "training_df.describe(include='all')"
      ]
    },
    {
      "cell_type": "code",
      "execution_count": null,
      "metadata": {
        "id": "VQ9R5o7CcFzY"
      },
      "outputs": [],
      "source": [
        "#@title Double-click or run to view answers about dataset statistics\n",
        "\n",
        "answer = '''\n",
        "What is the maximum fare? \t\t\t\t              Answer: $159.25\n",
        "What is the mean distance across all trips? \t\tAnswer: 8.2895 miles\n",
        "How many cab companies are in the dataset? \t\t  Answer: 31\n",
        "What is the most frequent payment type? \t\t    Answer: Credit Card\n",
        "Are any features missing data? \t\t\t\t          Answer: No\n",
        "'''\n",
        "\n",
        "# You should be able to find the answers to the questions about the dataset\n",
        "# by inspecting the table output after running the DataFrame describe method.\n",
        "#\n",
        "# Run this code cell to verify your answers.\n",
        "\n",
        "# What is the maximum fare?\n",
        "max_fare = training_df['FARE'].max()\n",
        "print(\"What is the maximum fare? \\t\\t\\t\\tAnswer: ${fare:.2f}\".format(fare = max_fare))\n",
        "\n",
        "# What is the mean distance across all trips?\n",
        "mean_distance = training_df['TRIP_MILES'].mean()\n",
        "print(\"What is the mean distance across all trips? \\t\\tAnswer: {mean:.4f} miles\".format(mean = mean_distance))\n",
        "\n",
        "# How many cab companies are in the dataset?\n",
        "num_unique_companies =  training_df['COMPANY'].nunique()\n",
        "print(\"How many cab companies are in the dataset? \\t\\tAnswer: {number}\".format(number = num_unique_companies))\n",
        "\n",
        "# What is the most frequent payment type?\n",
        "most_freq_payment_type = training_df['PAYMENT_TYPE'].value_counts().idxmax()\n",
        "print(\"What is the most frequent payment type? \\t\\tAnswer: {type}\".format(type = most_freq_payment_type))\n",
        "\n",
        "# Are any features missing data?\n",
        "missing_values = training_df.isnull().sum().sum()\n",
        "print(\"Are any features missing data? \\t\\t\\t\\tAnswer:\", \"No\" if missing_values == 0 else \"Yes\")\n"
      ]
    },
    {
      "cell_type": "markdown",
      "metadata": {
        "id": "-StQ4-wbBpIP"
      },
      "source": [
        "## Generate a correlation matrix\n",
        "\n",
        "An important part of machine learning is determining which [features](https://developers.google.com/machine-learning/glossary/#feature) correlate with the [label](https://developers.google.com/machine-learning/glossary/#label). If you have ever taken a taxi ride before, your experience is probably telling you that the fare is typically associated with the distance traveled and the duration of the trip. But, is there a way for you to learn more about how well these features correlate to the fare (label)?\n",
        "\n",
        "In this step, you will use a **correlation matrix** to identify features whose values correlate well with the label. Correlation values have the following meanings:\n",
        "\n",
        "  * **`1.0`**: perfect positive correlation; that is, when one attribute rises, the other attribute rises.\n",
        "  * **`-1.0`**: perfect negative correlation; that is, when one attribute rises, the other attribute falls.\n",
        "  * **`0.0`**: no correlation; the two columns [are not linearly related](https://en.wikipedia.org/wiki/Correlation_and_dependence#/media/File:Correlation_examples2.svg).\n",
        "\n",
        "In general, the higher the absolute value of a correlation value, the greater its predictive power.\n",
        "\n",
        "**Instructions**\n",
        "\n",
        "1. Inspect the code in the **View correlation matrix** code cell.\n",
        "1. Run the **View correlation matrix** code cell and inspect the output.\n",
        "1. **Check your understanding** by answering these questions:\n",
        "  * Which feature correlates most strongly to the label FARE?\n",
        "  * Which feature correlates least strongly to the label FARE?\n"
      ]
    },
    {
      "cell_type": "code",
      "execution_count": null,
      "metadata": {
        "id": "-1kFmfdFDVmv"
      },
      "outputs": [],
      "source": [
        "#@title Code - View correlation matrix\n",
        "training_df.corr(numeric_only = True)"
      ]
    },
    {
      "cell_type": "code",
      "execution_count": null,
      "metadata": {
        "id": "ExPq1h6wIzvR"
      },
      "outputs": [],
      "source": [
        "#@title Double-click to view answers about the correlation matrix\n",
        "\n",
        "# Which feature correlates most strongly to the label FARE?\n",
        "# ---------------------------------------------------------\n",
        "answer = '''\n",
        "The feature with the strongest correlation to the FARE is TRIP_MILES.\n",
        "As you might expect, TRIP_MILES looks like a good feature to start with to train\n",
        "the model. Also, notice that the feature TRIP_SECONDS has a strong correlation\n",
        "with fare too.\n",
        "'''\n",
        "print(answer)\n",
        "\n",
        "\n",
        "# Which feature correlates least strongly to the label FARE?\n",
        "# -----------------------------------------------------------\n",
        "answer = '''The feature with the weakest correlation to the FARE is TIP_RATE.'''\n",
        "print(answer)"
      ]
    },
    {
      "cell_type": "markdown",
      "metadata": {
        "id": "rqklIw96G7JA"
      },
      "source": [
        "## Visualize relationships in dataset\n",
        "\n",
        "Sometimes it is helpful to visualize relationships between features in a dataset; one way to do this is with a pair plot. A **pair plot** generates a grid of pairwise plots to visualize the relationship of each feature with all other features all in one place.\n",
        "\n",
        "**Instructions**\n",
        "1. Run the **View pair plot** code cell."
      ]
    },
    {
      "cell_type": "code",
      "execution_count": null,
      "metadata": {
        "id": "ph0FE7ZxHY36"
      },
      "outputs": [],
      "source": [
        "#@title Code - View pairplot\n",
        "sns.pairplot(training_df, x_vars=[\"FARE\", \"TRIP_MILES\", \"TRIP_SECONDS\"], y_vars=[\"FARE\", \"TRIP_MILES\", \"TRIP_SECONDS\"])"
      ]
    },
    {
      "cell_type": "markdown",
      "metadata": {
        "id": "zrereRcYR9KG"
      },
      "source": [
        "# Part 3 - Train Model\n",
        "\n",
        "\n",
        "---\n",
        "\n"
      ]
    },
    {
      "cell_type": "markdown",
      "metadata": {
        "id": "PfRhSs_RR2VI"
      },
      "source": [
        "## Define functions to view model information\n",
        "\n",
        "To help visualize the results of each training run you will generate two plots at the end of each experiment:\n",
        "\n",
        "* a scatter plot of the features vs. the label with a line showing the output of the trained model\n",
        "* a loss curve\n",
        "\n",
        "For this exercise, the plotting functions are provided for you. Unless you are interested, it is not important for you to understand how these plotting functions work.\n",
        "\n",
        "**Instructions**\n",
        "1. Run the **Define plotting functions** code cell."
      ]
    },
    {
      "cell_type": "code",
      "execution_count": 18,
      "metadata": {
        "id": "EE7nBxoMUtE9",
        "outputId": "656728cb-6ce3-4e61-b71f-b99668474911",
        "colab": {
          "base_uri": "https://localhost:8080/"
        }
      },
      "outputs": [
        {
          "output_type": "stream",
          "name": "stdout",
          "text": [
            "SUCCESS: defining plotting functions complete.\n"
          ]
        }
      ],
      "source": [
        "#@title Define plotting functions\n",
        "\n",
        "def make_plots(df, feature_names, label_name, model_output, sample_size=200):\n",
        "\n",
        "  random_sample = df.sample(n=sample_size).copy()\n",
        "  random_sample.reset_index()\n",
        "  weights, bias, epochs, rmse = model_output\n",
        "\n",
        "  is_2d_plot = len(feature_names) == 1\n",
        "  model_plot_type = \"scatter\" if is_2d_plot else \"surface\"\n",
        "  fig = make_subplots(rows=1, cols=2,\n",
        "                      subplot_titles=(\"Loss Curve\", \"Model Plot\"),\n",
        "                      specs=[[{\"type\": \"scatter\"}, {\"type\": model_plot_type}]])\n",
        "\n",
        "  plot_data(random_sample, feature_names, label_name, fig)\n",
        "  plot_model(random_sample, feature_names, weights, bias, fig)\n",
        "  plot_loss_curve(epochs, rmse, fig)\n",
        "\n",
        "  fig.show()\n",
        "  return\n",
        "\n",
        "def plot_loss_curve(epochs, rmse, fig):\n",
        "  curve = px.line(x=epochs, y=rmse)\n",
        "  curve.update_traces(line_color='#ff0000', line_width=3)\n",
        "\n",
        "  fig.append_trace(curve.data[0], row=1, col=1)\n",
        "  fig.update_xaxes(title_text=\"Epoch\", row=1, col=1)\n",
        "  fig.update_yaxes(title_text=\"Root Mean Squared Error\", row=1, col=1, range=[rmse.min()*0.8, rmse.max()])\n",
        "\n",
        "  return\n",
        "\n",
        "def plot_data(df, features, label, fig):\n",
        "  if len(features) == 1:\n",
        "    scatter = px.scatter(df, x=features[0], y=label)\n",
        "  else:\n",
        "    scatter = px.scatter_3d(df, x=features[0], y=features[1], z=label)\n",
        "\n",
        "  fig.append_trace(scatter.data[0], row=1, col=2)\n",
        "  if len(features) == 1:\n",
        "    fig.update_xaxes(title_text=features[0], row=1, col=2)\n",
        "    fig.update_yaxes(title_text=label, row=1, col=2)\n",
        "  else:\n",
        "    fig.update_layout(scene1=dict(xaxis_title=features[0], yaxis_title=features[1], zaxis_title=label))\n",
        "\n",
        "  return\n",
        "\n",
        "def plot_model(df, features, weights, bias, fig):\n",
        "  df['FARE_PREDICTED'] = bias[0]\n",
        "\n",
        "  for index, feature in enumerate(features):\n",
        "    df['FARE_PREDICTED'] = df['FARE_PREDICTED'] + weights[index][0] * df[feature]\n",
        "\n",
        "  if len(features) == 1:\n",
        "    model = px.line(df, x=features[0], y='FARE_PREDICTED')\n",
        "    model.update_traces(line_color='#ff0000', line_width=3)\n",
        "  else:\n",
        "    z_name, y_name = \"FARE_PREDICTED\", features[1]\n",
        "    z = [df[z_name].min(), (df[z_name].max() - df[z_name].min()) / 2, df[z_name].max()]\n",
        "    y = [df[y_name].min(), (df[y_name].max() - df[y_name].min()) / 2, df[y_name].max()]\n",
        "    x = []\n",
        "    for i in range(len(y)):\n",
        "      x.append((z[i] - weights[1][0] * y[i] - bias[0]) / weights[0][0])\n",
        "\n",
        "    plane=pd.DataFrame({'x':x, 'y':y, 'z':[z] * 3})\n",
        "\n",
        "    light_yellow = [[0, '#89CFF0'], [1, '#FFDB58']]\n",
        "    model = go.Figure(data=go.Surface(x=plane['x'], y=plane['y'], z=plane['z'],\n",
        "                                      colorscale=light_yellow))\n",
        "\n",
        "  fig.add_trace(model.data[0], row=1, col=2)\n",
        "\n",
        "  return\n",
        "\n",
        "def model_info(feature_names, label_name, model_output):\n",
        "  weights = model_output[0]\n",
        "  bias = model_output[1]\n",
        "\n",
        "  nl = \"\\n\"\n",
        "  header = \"-\" * 80\n",
        "  banner = header + nl + \"|\" + \"MODEL INFO\".center(78) + \"|\" + nl + header\n",
        "\n",
        "  info = \"\"\n",
        "  equation = label_name + \" = \"\n",
        "\n",
        "  for index, feature in enumerate(feature_names):\n",
        "    info = info + \"Weight for feature[{}]: {:.3f}\\n\".format(feature, weights[index][0])\n",
        "    equation = equation + \"{:.3f} * {} + \".format(weights[index][0], feature)\n",
        "\n",
        "  info = info + \"Bias: {:.3f}\\n\".format(bias[0])\n",
        "  equation = equation + \"{:.3f}\\n\".format(bias[0])\n",
        "\n",
        "  return banner + nl + info + nl + equation\n",
        "\n",
        "print(\"SUCCESS: defining plotting functions complete.\")"
      ]
    },
    {
      "cell_type": "markdown",
      "metadata": {
        "id": "iRluiQhNvTwc"
      },
      "source": [
        "## Define functions to build and train a model\n",
        "\n",
        "The code you need to build and train your model is in the **Define ML functions** code cell. If you would like to explore this code, expand the code cell and take a look.\n",
        "\n",
        "**Instructions**\n",
        "1. Run the **Define ML functions** code cell."
      ]
    },
    {
      "cell_type": "code",
      "execution_count": 11,
      "metadata": {
        "id": "W6a7dtcCob-n",
        "outputId": "05e22213-3c8d-40ad-a5b2-9f9667d4d82b",
        "colab": {
          "base_uri": "https://localhost:8080/"
        }
      },
      "outputs": [
        {
          "output_type": "stream",
          "name": "stdout",
          "text": [
            "SUCCESS: defining linear regression functions complete.\n"
          ]
        }
      ],
      "source": [
        "#@title Code - Define ML functions\n",
        "\n",
        "def build_model(my_learning_rate, num_features):\n",
        "  \"\"\"Create and compile a simple linear regression model.\"\"\"\n",
        "  # Describe the topography of the model.\n",
        "  # The topography of a simple linear regression model\n",
        "  # is a single node in a single layer.\n",
        "  inputs = keras.Input(shape=(num_features,))\n",
        "  outputs = keras.layers.Dense(units=1)(inputs)\n",
        "  model = keras.Model(inputs=inputs, outputs=outputs)\n",
        "\n",
        "  # Compile the model topography into code that Keras can efficiently\n",
        "  # execute. Configure training to minimize the model's mean squared error.\n",
        "  model.compile(optimizer=keras.optimizers.RMSprop(learning_rate=my_learning_rate),\n",
        "                loss=\"mean_squared_error\",\n",
        "                metrics=[keras.metrics.RootMeanSquaredError()])\n",
        "\n",
        "  return model\n",
        "\n",
        "\n",
        "def train_model(model, df, features, label, epochs, batch_size):\n",
        "  \"\"\"Train the model by feeding it data.\"\"\"\n",
        "\n",
        "  # Feed the model the feature and the label.\n",
        "  # The model will train for the specified number of epochs.\n",
        "  # input_x = df.iloc[:,1:3].values\n",
        "  # df[feature]\n",
        "  history = model.fit(x=features,\n",
        "                      y=label,\n",
        "                      batch_size=batch_size,\n",
        "                      epochs=epochs)\n",
        "\n",
        "  # Gather the trained model's weight and bias.\n",
        "  trained_weight = model.get_weights()[0]\n",
        "  trained_bias = model.get_weights()[1]\n",
        "\n",
        "  # The list of epochs is stored separately from the rest of history.\n",
        "  epochs = history.epoch\n",
        "\n",
        "  # Isolate the error for each epoch.\n",
        "  hist = pd.DataFrame(history.history)\n",
        "\n",
        "  # To track the progression of training, we're going to take a snapshot\n",
        "  # of the model's root mean squared error at each epoch.\n",
        "  rmse = hist[\"root_mean_squared_error\"]\n",
        "\n",
        "  return trained_weight, trained_bias, epochs, rmse\n",
        "\n",
        "\n",
        "def run_experiment(df, feature_names, label_name, learning_rate, epochs, batch_size):\n",
        "\n",
        "  print('INFO: starting training experiment with features={} and label={}\\n'.format(feature_names, label_name))\n",
        "\n",
        "  num_features = len(feature_names)\n",
        "\n",
        "  features = df.loc[:, feature_names].values\n",
        "  label = df[label_name].values\n",
        "\n",
        "  model = build_model(learning_rate, num_features)\n",
        "  model_output = train_model(model, df, features, label, epochs, batch_size)\n",
        "\n",
        "  print('\\nSUCCESS: training experiment complete\\n')\n",
        "  print('{}'.format(model_info(feature_names, label_name, model_output)))\n",
        "  make_plots(df, feature_names, label_name, model_output)\n",
        "\n",
        "  return model\n",
        "\n",
        "print(\"SUCCESS: defining linear regression functions complete.\")"
      ]
    },
    {
      "cell_type": "markdown",
      "metadata": {
        "id": "m3DQCE2OpH4-"
      },
      "source": [
        "## Train a model with one feature\n",
        "\n",
        "In this step you will train a model to predict the cost of the fare using a **single feature**. Earlier, you saw that `TRIP_MILES` (distance) correlates most strongly with the ``FARE``, so let's start with `TRIP_MILES` as the feature for your first training run.\n",
        "\n",
        "**Instructions**\n",
        "\n",
        "1. Run the **Experiment 1** code cell to build your model with one feature.\n",
        "1. Review the output from the training run\n",
        "1. **Check your understanding** by answering these questions:\n",
        "  * How many epochs did it take to converge on the final model?\n",
        "  * How well does the model fit the sample data?\n",
        "\n",
        "During training, you should see the root mean square error (RMSE) in the output. The units for RMSE are the same as the units for the label (dollars). In other words, you can use the RMSE to determine how far off, on average, the predicted fares are in dollars from the observed values."
      ]
    },
    {
      "cell_type": "code",
      "execution_count": 12,
      "metadata": {
        "cellView": "form",
        "id": "F_17Aum6IG1F",
        "outputId": "9d8af8f1-ced4-4296-d408-6adf0aa95597",
        "colab": {
          "base_uri": "https://localhost:8080/",
          "height": 1000
        }
      },
      "outputs": [
        {
          "output_type": "stream",
          "name": "stdout",
          "text": [
            "INFO: starting training experiment with features=['TRIP_MILES'] and label=FARE\n",
            "\n",
            "Epoch 1/20\n",
            "\u001b[1m634/634\u001b[0m \u001b[32m━━━━━━━━━━━━━━━━━━━━\u001b[0m\u001b[37m\u001b[0m \u001b[1m1s\u001b[0m 1ms/step - loss: 944.7204 - root_mean_squared_error: 30.7137\n",
            "Epoch 2/20\n",
            "\u001b[1m634/634\u001b[0m \u001b[32m━━━━━━━━━━━━━━━━━━━━\u001b[0m\u001b[37m\u001b[0m \u001b[1m1s\u001b[0m 1ms/step - loss: 534.6981 - root_mean_squared_error: 23.1079\n",
            "Epoch 3/20\n",
            "\u001b[1m634/634\u001b[0m \u001b[32m━━━━━━━━━━━━━━━━━━━━\u001b[0m\u001b[37m\u001b[0m \u001b[1m1s\u001b[0m 1ms/step - loss: 262.1011 - root_mean_squared_error: 16.1616\n",
            "Epoch 4/20\n",
            "\u001b[1m634/634\u001b[0m \u001b[32m━━━━━━━━━━━━━━━━━━━━\u001b[0m\u001b[37m\u001b[0m \u001b[1m1s\u001b[0m 1ms/step - loss: 86.3580 - root_mean_squared_error: 9.2565\n",
            "Epoch 5/20\n",
            "\u001b[1m634/634\u001b[0m \u001b[32m━━━━━━━━━━━━━━━━━━━━\u001b[0m\u001b[37m\u001b[0m \u001b[1m2s\u001b[0m 2ms/step - loss: 20.6232 - root_mean_squared_error: 4.5320\n",
            "Epoch 6/20\n",
            "\u001b[1m634/634\u001b[0m \u001b[32m━━━━━━━━━━━━━━━━━━━━\u001b[0m\u001b[37m\u001b[0m \u001b[1m1s\u001b[0m 2ms/step - loss: 14.7325 - root_mean_squared_error: 3.8348\n",
            "Epoch 7/20\n",
            "\u001b[1m634/634\u001b[0m \u001b[32m━━━━━━━━━━━━━━━━━━━━\u001b[0m\u001b[37m\u001b[0m \u001b[1m1s\u001b[0m 2ms/step - loss: 17.0951 - root_mean_squared_error: 4.1208\n",
            "Epoch 8/20\n",
            "\u001b[1m634/634\u001b[0m \u001b[32m━━━━━━━━━━━━━━━━━━━━\u001b[0m\u001b[37m\u001b[0m \u001b[1m1s\u001b[0m 1ms/step - loss: 15.5079 - root_mean_squared_error: 3.9256\n",
            "Epoch 9/20\n",
            "\u001b[1m634/634\u001b[0m \u001b[32m━━━━━━━━━━━━━━━━━━━━\u001b[0m\u001b[37m\u001b[0m \u001b[1m1s\u001b[0m 1ms/step - loss: 15.8903 - root_mean_squared_error: 3.9796\n",
            "Epoch 10/20\n",
            "\u001b[1m634/634\u001b[0m \u001b[32m━━━━━━━━━━━━━━━━━━━━\u001b[0m\u001b[37m\u001b[0m \u001b[1m1s\u001b[0m 1ms/step - loss: 13.3932 - root_mean_squared_error: 3.6549\n",
            "Epoch 11/20\n",
            "\u001b[1m634/634\u001b[0m \u001b[32m━━━━━━━━━━━━━━━━━━━━\u001b[0m\u001b[37m\u001b[0m \u001b[1m1s\u001b[0m 1ms/step - loss: 13.8577 - root_mean_squared_error: 3.7169\n",
            "Epoch 12/20\n",
            "\u001b[1m634/634\u001b[0m \u001b[32m━━━━━━━━━━━━━━━━━━━━\u001b[0m\u001b[37m\u001b[0m \u001b[1m1s\u001b[0m 1ms/step - loss: 15.8835 - root_mean_squared_error: 3.9787\n",
            "Epoch 13/20\n",
            "\u001b[1m634/634\u001b[0m \u001b[32m━━━━━━━━━━━━━━━━━━━━\u001b[0m\u001b[37m\u001b[0m \u001b[1m1s\u001b[0m 1ms/step - loss: 12.7779 - root_mean_squared_error: 3.5647\n",
            "Epoch 14/20\n",
            "\u001b[1m634/634\u001b[0m \u001b[32m━━━━━━━━━━━━━━━━━━━━\u001b[0m\u001b[37m\u001b[0m \u001b[1m1s\u001b[0m 1ms/step - loss: 12.5337 - root_mean_squared_error: 3.5200\n",
            "Epoch 15/20\n",
            "\u001b[1m634/634\u001b[0m \u001b[32m━━━━━━━━━━━━━━━━━━━━\u001b[0m\u001b[37m\u001b[0m \u001b[1m1s\u001b[0m 1ms/step - loss: 14.1590 - root_mean_squared_error: 3.7588\n",
            "Epoch 16/20\n",
            "\u001b[1m634/634\u001b[0m \u001b[32m━━━━━━━━━━━━━━━━━━━━\u001b[0m\u001b[37m\u001b[0m \u001b[1m1s\u001b[0m 1ms/step - loss: 12.6572 - root_mean_squared_error: 3.5559\n",
            "Epoch 17/20\n",
            "\u001b[1m634/634\u001b[0m \u001b[32m━━━━━━━━━━━━━━━━━━━━\u001b[0m\u001b[37m\u001b[0m \u001b[1m4s\u001b[0m 5ms/step - loss: 15.0856 - root_mean_squared_error: 3.8729\n",
            "Epoch 18/20\n",
            "\u001b[1m634/634\u001b[0m \u001b[32m━━━━━━━━━━━━━━━━━━━━\u001b[0m\u001b[37m\u001b[0m \u001b[1m3s\u001b[0m 1ms/step - loss: 14.4082 - root_mean_squared_error: 3.7932\n",
            "Epoch 19/20\n",
            "\u001b[1m634/634\u001b[0m \u001b[32m━━━━━━━━━━━━━━━━━━━━\u001b[0m\u001b[37m\u001b[0m \u001b[1m1s\u001b[0m 1ms/step - loss: 13.4691 - root_mean_squared_error: 3.6632\n",
            "Epoch 20/20\n",
            "\u001b[1m634/634\u001b[0m \u001b[32m━━━━━━━━━━━━━━━━━━━━\u001b[0m\u001b[37m\u001b[0m \u001b[1m1s\u001b[0m 1ms/step - loss: 14.0696 - root_mean_squared_error: 3.7420\n",
            "\n",
            "SUCCESS: training experiment complete\n",
            "\n",
            "--------------------------------------------------------------------------------\n",
            "|                                  MODEL INFO                                  |\n",
            "--------------------------------------------------------------------------------\n",
            "Weight for feature[TRIP_MILES]: 2.292\n",
            "Bias: 4.972\n",
            "\n",
            "FARE = 2.292 * TRIP_MILES + 4.972\n",
            "\n"
          ]
        },
        {
          "output_type": "display_data",
          "data": {
            "text/html": [
              "<html>\n",
              "<head><meta charset=\"utf-8\" /></head>\n",
              "<body>\n",
              "    <div>            <script src=\"https://cdnjs.cloudflare.com/ajax/libs/mathjax/2.7.5/MathJax.js?config=TeX-AMS-MML_SVG\"></script><script type=\"text/javascript\">if (window.MathJax && window.MathJax.Hub && window.MathJax.Hub.Config) {window.MathJax.Hub.Config({SVG: {font: \"STIX-Web\"}});}</script>                <script type=\"text/javascript\">window.PlotlyConfig = {MathJaxConfig: 'local'};</script>\n",
              "        <script charset=\"utf-8\" src=\"https://cdn.plot.ly/plotly-2.35.2.min.js\"></script>                <div id=\"a95bd98e-5b88-48b3-bec3-6e15df45ed8b\" class=\"plotly-graph-div\" style=\"height:525px; width:100%;\"></div>            <script type=\"text/javascript\">                                    window.PLOTLYENV=window.PLOTLYENV || {};                                    if (document.getElementById(\"a95bd98e-5b88-48b3-bec3-6e15df45ed8b\")) {                    Plotly.newPlot(                        \"a95bd98e-5b88-48b3-bec3-6e15df45ed8b\",                        [{\"hovertemplate\":\"TRIP_MILES=%{x}\\u003cbr\\u003eFARE=%{y}\\u003cextra\\u003e\\u003c\\u002fextra\\u003e\",\"legendgroup\":\"\",\"marker\":{\"color\":\"#636efa\",\"symbol\":\"circle\"},\"mode\":\"markers\",\"name\":\"\",\"orientation\":\"v\",\"showlegend\":false,\"x\":[1.74,3.1,0.7,18.3,5.31,0.8,13.82,4.68,1.1,1.54,9.26,2.99,3.34,11.3,3.72,2.14,7.1,1.55,8.66,2.1,9.8,3.1,5.35,23.91,4.9,7.0,1.57,1.1,1.2,3.77,16.55,1.6,17.3,11.34,4.64,14.72,3.2,11.6,1.57,18.3,2.0,23.91,6.87,0.9,0.94,18.1,0.72,4.55,17.95,1.3,27.7,3.78,1.34,12.8,0.91,2.15,16.1,1.5,1.44,3.87,18.0,1.01,14.17,3.86,6.5,13.06,0.6,17.46,0.85,13.15,4.0,7.69,26.77,10.25,8.6,17.91,1.32,1.6,0.7,1.9,18.44,10.98,20.31,14.0,1.7,6.9,0.75,5.7,16.3,15.2,17.4,5.05,2.5,18.3,1.05,7.25,16.5,27.8,1.97,1.2,0.8,7.8,0.95,2.06,17.4,10.88,14.0,4.8,17.6,1.32,12.23,14.78,5.37,16.2,29.97,0.8,12.4,20.86,11.2,11.84,2.59,0.71,11.2,10.9,14.37,0.86,7.11,17.87,8.8,3.5,18.28,18.1,1.08,3.11,17.65,1.67,16.37,4.32,11.47,8.6,1.84,2.7,3.71,10.25,0.92,7.8,2.0,1.6,6.43,2.2,20.5,9.7,13.69,7.1,1.7,0.7,2.04,12.7,6.24,2.04,5.03,4.55,17.7,11.6,11.18,3.8,4.65,1.8,17.49,14.6,17.91,6.9,4.7,23.87,1.21,16.9,1.48,17.46,11.24,1.5,16.7,1.3,11.07,1.44,1.1,1.51,4.01,1.0,1.49,14.78,9.48,1.2,1.15,0.9,7.37,1.5,1.98,0.89,10.2,3.21],\"xaxis\":\"x2\",\"y\":[9.0,11.0,5.25,46.0,19.5,5.75,35.0,15.75,6.75,7.5,38.0,11.44,13.75,33.5,15.25,9.75,20.75,8.5,30.25,9.24,27.5,11.25,19.5,60.5,15.25,36.5,9.0,7.5,7.25,14.75,42.5,7.25,42.25,30.0,16.25,37.75,12.0,32.25,8.5,46.75,9.0,43.89,19.75,5.25,5.75,45.5,5.5,14.0,45.75,7.25,68.5,14.24,7.5,32.75,6.0,11.0,39.75,7.5,9.0,25.75,46.25,6.25,40.23,21.05,18.75,35.0,5.0,44.75,5.25,34.25,14.5,22.75,77.79,27.75,24.25,45.5,7.0,7.75,4.75,9.25,48.25,28.5,53.94,38.5,7.75,21.5,5.25,19.25,41.5,39.5,52.76,15.44,11.25,47.0,7.25,22.05,41.25,45.25,9.0,6.75,6.0,23.0,6.75,10.5,47.25,30.25,36.0,16.25,45.0,7.0,32.0,38.0,16.75,40.0,74.25,5.25,31.5,51.5,28.75,30.25,10.25,5.5,29.5,29.0,38.5,5.75,22.0,44.5,25.75,12.75,47.0,45.0,9.0,10.5,43.75,7.75,41.25,15.37,31.25,25.0,8.25,12.5,13.91,57.0,9.0,24.0,9.25,7.25,19.5,10.0,50.5,27.25,38.75,21.5,9.25,5.0,9.21,32.5,18.25,10.0,62.76,14.75,47.0,34.75,30.5,12.75,15.0,9.0,44.0,32.5,43.75,18.75,15.75,60.5,6.75,44.75,8.0,44.0,39.65,10.25,41.5,6.5,30.25,8.25,6.25,8.5,14.92,6.5,7.0,38.0,27.25,6.5,6.5,6.25,20.25,7.25,8.75,6.25,27.5,10.98],\"yaxis\":\"y2\",\"type\":\"scatter\"},{\"hovertemplate\":\"TRIP_MILES=%{x}\\u003cbr\\u003eFARE_PREDICTED=%{y}\\u003cextra\\u003e\\u003c\\u002fextra\\u003e\",\"legendgroup\":\"\",\"line\":{\"color\":\"#ff0000\",\"dash\":\"solid\",\"width\":3},\"marker\":{\"symbol\":\"circle\"},\"mode\":\"lines\",\"name\":\"\",\"orientation\":\"v\",\"showlegend\":false,\"x\":[1.74,3.1,0.7,18.3,5.31,0.8,13.82,4.68,1.1,1.54,9.26,2.99,3.34,11.3,3.72,2.14,7.1,1.55,8.66,2.1,9.8,3.1,5.35,23.91,4.9,7.0,1.57,1.1,1.2,3.77,16.55,1.6,17.3,11.34,4.64,14.72,3.2,11.6,1.57,18.3,2.0,23.91,6.87,0.9,0.94,18.1,0.72,4.55,17.95,1.3,27.7,3.78,1.34,12.8,0.91,2.15,16.1,1.5,1.44,3.87,18.0,1.01,14.17,3.86,6.5,13.06,0.6,17.46,0.85,13.15,4.0,7.69,26.77,10.25,8.6,17.91,1.32,1.6,0.7,1.9,18.44,10.98,20.31,14.0,1.7,6.9,0.75,5.7,16.3,15.2,17.4,5.05,2.5,18.3,1.05,7.25,16.5,27.8,1.97,1.2,0.8,7.8,0.95,2.06,17.4,10.88,14.0,4.8,17.6,1.32,12.23,14.78,5.37,16.2,29.97,0.8,12.4,20.86,11.2,11.84,2.59,0.71,11.2,10.9,14.37,0.86,7.11,17.87,8.8,3.5,18.28,18.1,1.08,3.11,17.65,1.67,16.37,4.32,11.47,8.6,1.84,2.7,3.71,10.25,0.92,7.8,2.0,1.6,6.43,2.2,20.5,9.7,13.69,7.1,1.7,0.7,2.04,12.7,6.24,2.04,5.03,4.55,17.7,11.6,11.18,3.8,4.65,1.8,17.49,14.6,17.91,6.9,4.7,23.87,1.21,16.9,1.48,17.46,11.24,1.5,16.7,1.3,11.07,1.44,1.1,1.51,4.01,1.0,1.49,14.78,9.48,1.2,1.15,0.9,7.37,1.5,1.98,0.89,10.2,3.21],\"xaxis\":\"x2\",\"y\":[8.960095210075378,12.076862502098084,6.576684927940368,46.91132047176361,17.141609351634976,6.805858993530274,36.64432233333588,15.697812738418579,7.4933811902999885,8.50174707889557,26.193984942436217,11.82477102994919,12.626880259513854,30.869135880470278,13.497741708755493,9.876791472434999,21.243825125694276,8.52466448545456,24.81894054889679,9.785121846199036,27.431524896621706,12.076862502098084,17.23327897787094,59.76798555135727,16.201995682716372,21.01465106010437,8.57049929857254,7.4933811902999885,7.722555255889892,13.612328741550446,42.900774323940276,8.639251518249512,44.61957981586456,30.960805506706237,15.606143112182616,38.70688892364502,12.30603656768799,31.55665807723999,8.57049929857254,46.91132047176361,9.55594778060913,59.76798555135727,20.716724774837495,7.035033059120178,7.12670268535614,46.452972340583806,6.622519741058349,15.399886453151703,46.109211242198946,7.951729321479798,68.45368263721465,13.635246148109436,8.04339894771576,34.30674686431885,7.057950465679169,9.899708878993987,41.86949102878571,8.410077452659607,8.272573013305664,13.841502807140351,46.2237982749939,7.287124531269074,37.44643156290054,13.818585400581359,19.868780732154846,34.902599434852604,6.347510862350464,44.98625832080841,6.920446026325226,35.10885609388352,14.139429092407227,22.595952112674713,66.32236382722854,28.462808191776276,24.681436109542847,46.01754161596298,7.997564134597779,8.639251518249512,6.576684927940368,9.326773715019225,47.23216416358948,30.13577887058258,51.517719190120694,37.056835651397705,8.868425583839416,20.785476994514468,6.691271960735321,18.03538820743561,42.327839159965514,39.806924438476564,44.84875388145446,16.545756781101225,10.701818108558655,46.91132047176361,7.378794157505036,21.587586224079132,42.786187291145325,68.68285670280457,9.48719556093216,7.722555255889892,6.805858993530274,22.848043584823607,7.14962009191513,9.693452219963074,44.84875388145446,29.90660480499268,37.056835651397705,15.972821617126465,45.30710201263428,7.997564134597779,33.000454690456394,38.844393362998964,17.279113790988923,42.09866509437561,73.65593392610549,6.805858993530274,33.39005060195923,52.77817655086517,30.63996181488037,32.10667583465576,10.908074767589568,6.599602334499359,30.63996181488037,29.952439618110656,37.904779694080354,6.943363432884216,21.266742532253264,45.92587198972702,25.13978424072266,12.993558764457703,46.86548565864563,46.452972340583806,7.447546377182007,12.099779908657073,45.421689045429225,8.799673364162444,42.48826100587845,14.872786102294922,31.258731791973116,24.681436109542847,9.189269275665282,11.160166239738466,13.474824302196502,28.462808191776276,7.080867872238159,22.848043584823607,9.55594778060913,8.639251518249512,19.70835888624191,10.014295911788942,51.953149914741516,27.202350831031797,36.346396048068996,21.243825125694276,8.868425583839416,6.576684927940368,9.647617406845093,34.07757279872894,19.272928161621095,9.647617406845093,16.499921967983248,15.399886453151703,45.53627607822418,31.55665807723999,30.594127001762388,13.681080961227417,15.629060518741609,9.097599649429322,45.05501054048538,38.43188004493713,46.01754161596298,20.785476994514468,15.74364755153656,59.67631592512131,7.745472662448883,43.70288355350494,8.364242639541626,44.98625832080841,30.731631441116335,8.410077452659607,43.244535422325136,7.951729321479798,30.342035529613497,8.272573013305664,7.4933811902999885,8.432994859218597,14.162346498966217,7.264207124710083,8.387160046100616,38.844393362998964,26.69816788673401,7.722555255889892,7.6079682230949395,7.035033059120178,21.86259510278702,8.410077452659607,9.51011296749115,7.012115652561188,28.34822115898132,12.328953974246978],\"yaxis\":\"y2\",\"type\":\"scatter\"},{\"hovertemplate\":\"x=%{x}\\u003cbr\\u003ey=%{y}\\u003cextra\\u003e\\u003c\\u002fextra\\u003e\",\"legendgroup\":\"\",\"line\":{\"color\":\"#ff0000\",\"dash\":\"solid\",\"width\":3},\"marker\":{\"symbol\":\"circle\"},\"mode\":\"lines\",\"name\":\"\",\"orientation\":\"v\",\"showlegend\":false,\"x\":[0,1,2,3,4,5,6,7,8,9,10,11,12,13,14,15,16,17,18,19],\"xaxis\":\"x\",\"y\":[28.81588363647461,21.582334518432617,14.548430442810059,7.950887680053711,4.17487096786499,3.9084761142730713,3.8336360454559326,3.7885801792144775,3.76578950881958,3.7543697357177734,3.7491183280944824,3.748034954071045,3.7462117671966553,3.746185541152954,3.746180772781372,3.745482921600342,3.745520830154419,3.7457988262176514,3.7457025051116943,3.7457287311553955],\"yaxis\":\"y\",\"type\":\"scatter\"}],                        {\"template\":{\"data\":{\"histogram2dcontour\":[{\"type\":\"histogram2dcontour\",\"colorbar\":{\"outlinewidth\":0,\"ticks\":\"\"},\"colorscale\":[[0.0,\"#0d0887\"],[0.1111111111111111,\"#46039f\"],[0.2222222222222222,\"#7201a8\"],[0.3333333333333333,\"#9c179e\"],[0.4444444444444444,\"#bd3786\"],[0.5555555555555556,\"#d8576b\"],[0.6666666666666666,\"#ed7953\"],[0.7777777777777778,\"#fb9f3a\"],[0.8888888888888888,\"#fdca26\"],[1.0,\"#f0f921\"]]}],\"choropleth\":[{\"type\":\"choropleth\",\"colorbar\":{\"outlinewidth\":0,\"ticks\":\"\"}}],\"histogram2d\":[{\"type\":\"histogram2d\",\"colorbar\":{\"outlinewidth\":0,\"ticks\":\"\"},\"colorscale\":[[0.0,\"#0d0887\"],[0.1111111111111111,\"#46039f\"],[0.2222222222222222,\"#7201a8\"],[0.3333333333333333,\"#9c179e\"],[0.4444444444444444,\"#bd3786\"],[0.5555555555555556,\"#d8576b\"],[0.6666666666666666,\"#ed7953\"],[0.7777777777777778,\"#fb9f3a\"],[0.8888888888888888,\"#fdca26\"],[1.0,\"#f0f921\"]]}],\"heatmap\":[{\"type\":\"heatmap\",\"colorbar\":{\"outlinewidth\":0,\"ticks\":\"\"},\"colorscale\":[[0.0,\"#0d0887\"],[0.1111111111111111,\"#46039f\"],[0.2222222222222222,\"#7201a8\"],[0.3333333333333333,\"#9c179e\"],[0.4444444444444444,\"#bd3786\"],[0.5555555555555556,\"#d8576b\"],[0.6666666666666666,\"#ed7953\"],[0.7777777777777778,\"#fb9f3a\"],[0.8888888888888888,\"#fdca26\"],[1.0,\"#f0f921\"]]}],\"heatmapgl\":[{\"type\":\"heatmapgl\",\"colorbar\":{\"outlinewidth\":0,\"ticks\":\"\"},\"colorscale\":[[0.0,\"#0d0887\"],[0.1111111111111111,\"#46039f\"],[0.2222222222222222,\"#7201a8\"],[0.3333333333333333,\"#9c179e\"],[0.4444444444444444,\"#bd3786\"],[0.5555555555555556,\"#d8576b\"],[0.6666666666666666,\"#ed7953\"],[0.7777777777777778,\"#fb9f3a\"],[0.8888888888888888,\"#fdca26\"],[1.0,\"#f0f921\"]]}],\"contourcarpet\":[{\"type\":\"contourcarpet\",\"colorbar\":{\"outlinewidth\":0,\"ticks\":\"\"}}],\"contour\":[{\"type\":\"contour\",\"colorbar\":{\"outlinewidth\":0,\"ticks\":\"\"},\"colorscale\":[[0.0,\"#0d0887\"],[0.1111111111111111,\"#46039f\"],[0.2222222222222222,\"#7201a8\"],[0.3333333333333333,\"#9c179e\"],[0.4444444444444444,\"#bd3786\"],[0.5555555555555556,\"#d8576b\"],[0.6666666666666666,\"#ed7953\"],[0.7777777777777778,\"#fb9f3a\"],[0.8888888888888888,\"#fdca26\"],[1.0,\"#f0f921\"]]}],\"surface\":[{\"type\":\"surface\",\"colorbar\":{\"outlinewidth\":0,\"ticks\":\"\"},\"colorscale\":[[0.0,\"#0d0887\"],[0.1111111111111111,\"#46039f\"],[0.2222222222222222,\"#7201a8\"],[0.3333333333333333,\"#9c179e\"],[0.4444444444444444,\"#bd3786\"],[0.5555555555555556,\"#d8576b\"],[0.6666666666666666,\"#ed7953\"],[0.7777777777777778,\"#fb9f3a\"],[0.8888888888888888,\"#fdca26\"],[1.0,\"#f0f921\"]]}],\"mesh3d\":[{\"type\":\"mesh3d\",\"colorbar\":{\"outlinewidth\":0,\"ticks\":\"\"}}],\"scatter\":[{\"fillpattern\":{\"fillmode\":\"overlay\",\"size\":10,\"solidity\":0.2},\"type\":\"scatter\"}],\"parcoords\":[{\"type\":\"parcoords\",\"line\":{\"colorbar\":{\"outlinewidth\":0,\"ticks\":\"\"}}}],\"scatterpolargl\":[{\"type\":\"scatterpolargl\",\"marker\":{\"colorbar\":{\"outlinewidth\":0,\"ticks\":\"\"}}}],\"bar\":[{\"error_x\":{\"color\":\"#2a3f5f\"},\"error_y\":{\"color\":\"#2a3f5f\"},\"marker\":{\"line\":{\"color\":\"#E5ECF6\",\"width\":0.5},\"pattern\":{\"fillmode\":\"overlay\",\"size\":10,\"solidity\":0.2}},\"type\":\"bar\"}],\"scattergeo\":[{\"type\":\"scattergeo\",\"marker\":{\"colorbar\":{\"outlinewidth\":0,\"ticks\":\"\"}}}],\"scatterpolar\":[{\"type\":\"scatterpolar\",\"marker\":{\"colorbar\":{\"outlinewidth\":0,\"ticks\":\"\"}}}],\"histogram\":[{\"marker\":{\"pattern\":{\"fillmode\":\"overlay\",\"size\":10,\"solidity\":0.2}},\"type\":\"histogram\"}],\"scattergl\":[{\"type\":\"scattergl\",\"marker\":{\"colorbar\":{\"outlinewidth\":0,\"ticks\":\"\"}}}],\"scatter3d\":[{\"type\":\"scatter3d\",\"line\":{\"colorbar\":{\"outlinewidth\":0,\"ticks\":\"\"}},\"marker\":{\"colorbar\":{\"outlinewidth\":0,\"ticks\":\"\"}}}],\"scattermapbox\":[{\"type\":\"scattermapbox\",\"marker\":{\"colorbar\":{\"outlinewidth\":0,\"ticks\":\"\"}}}],\"scatterternary\":[{\"type\":\"scatterternary\",\"marker\":{\"colorbar\":{\"outlinewidth\":0,\"ticks\":\"\"}}}],\"scattercarpet\":[{\"type\":\"scattercarpet\",\"marker\":{\"colorbar\":{\"outlinewidth\":0,\"ticks\":\"\"}}}],\"carpet\":[{\"aaxis\":{\"endlinecolor\":\"#2a3f5f\",\"gridcolor\":\"white\",\"linecolor\":\"white\",\"minorgridcolor\":\"white\",\"startlinecolor\":\"#2a3f5f\"},\"baxis\":{\"endlinecolor\":\"#2a3f5f\",\"gridcolor\":\"white\",\"linecolor\":\"white\",\"minorgridcolor\":\"white\",\"startlinecolor\":\"#2a3f5f\"},\"type\":\"carpet\"}],\"table\":[{\"cells\":{\"fill\":{\"color\":\"#EBF0F8\"},\"line\":{\"color\":\"white\"}},\"header\":{\"fill\":{\"color\":\"#C8D4E3\"},\"line\":{\"color\":\"white\"}},\"type\":\"table\"}],\"barpolar\":[{\"marker\":{\"line\":{\"color\":\"#E5ECF6\",\"width\":0.5},\"pattern\":{\"fillmode\":\"overlay\",\"size\":10,\"solidity\":0.2}},\"type\":\"barpolar\"}],\"pie\":[{\"automargin\":true,\"type\":\"pie\"}]},\"layout\":{\"autotypenumbers\":\"strict\",\"colorway\":[\"#636efa\",\"#EF553B\",\"#00cc96\",\"#ab63fa\",\"#FFA15A\",\"#19d3f3\",\"#FF6692\",\"#B6E880\",\"#FF97FF\",\"#FECB52\"],\"font\":{\"color\":\"#2a3f5f\"},\"hovermode\":\"closest\",\"hoverlabel\":{\"align\":\"left\"},\"paper_bgcolor\":\"white\",\"plot_bgcolor\":\"#E5ECF6\",\"polar\":{\"bgcolor\":\"#E5ECF6\",\"angularaxis\":{\"gridcolor\":\"white\",\"linecolor\":\"white\",\"ticks\":\"\"},\"radialaxis\":{\"gridcolor\":\"white\",\"linecolor\":\"white\",\"ticks\":\"\"}},\"ternary\":{\"bgcolor\":\"#E5ECF6\",\"aaxis\":{\"gridcolor\":\"white\",\"linecolor\":\"white\",\"ticks\":\"\"},\"baxis\":{\"gridcolor\":\"white\",\"linecolor\":\"white\",\"ticks\":\"\"},\"caxis\":{\"gridcolor\":\"white\",\"linecolor\":\"white\",\"ticks\":\"\"}},\"coloraxis\":{\"colorbar\":{\"outlinewidth\":0,\"ticks\":\"\"}},\"colorscale\":{\"sequential\":[[0.0,\"#0d0887\"],[0.1111111111111111,\"#46039f\"],[0.2222222222222222,\"#7201a8\"],[0.3333333333333333,\"#9c179e\"],[0.4444444444444444,\"#bd3786\"],[0.5555555555555556,\"#d8576b\"],[0.6666666666666666,\"#ed7953\"],[0.7777777777777778,\"#fb9f3a\"],[0.8888888888888888,\"#fdca26\"],[1.0,\"#f0f921\"]],\"sequentialminus\":[[0.0,\"#0d0887\"],[0.1111111111111111,\"#46039f\"],[0.2222222222222222,\"#7201a8\"],[0.3333333333333333,\"#9c179e\"],[0.4444444444444444,\"#bd3786\"],[0.5555555555555556,\"#d8576b\"],[0.6666666666666666,\"#ed7953\"],[0.7777777777777778,\"#fb9f3a\"],[0.8888888888888888,\"#fdca26\"],[1.0,\"#f0f921\"]],\"diverging\":[[0,\"#8e0152\"],[0.1,\"#c51b7d\"],[0.2,\"#de77ae\"],[0.3,\"#f1b6da\"],[0.4,\"#fde0ef\"],[0.5,\"#f7f7f7\"],[0.6,\"#e6f5d0\"],[0.7,\"#b8e186\"],[0.8,\"#7fbc41\"],[0.9,\"#4d9221\"],[1,\"#276419\"]]},\"xaxis\":{\"gridcolor\":\"white\",\"linecolor\":\"white\",\"ticks\":\"\",\"title\":{\"standoff\":15},\"zerolinecolor\":\"white\",\"automargin\":true,\"zerolinewidth\":2},\"yaxis\":{\"gridcolor\":\"white\",\"linecolor\":\"white\",\"ticks\":\"\",\"title\":{\"standoff\":15},\"zerolinecolor\":\"white\",\"automargin\":true,\"zerolinewidth\":2},\"scene\":{\"xaxis\":{\"backgroundcolor\":\"#E5ECF6\",\"gridcolor\":\"white\",\"linecolor\":\"white\",\"showbackground\":true,\"ticks\":\"\",\"zerolinecolor\":\"white\",\"gridwidth\":2},\"yaxis\":{\"backgroundcolor\":\"#E5ECF6\",\"gridcolor\":\"white\",\"linecolor\":\"white\",\"showbackground\":true,\"ticks\":\"\",\"zerolinecolor\":\"white\",\"gridwidth\":2},\"zaxis\":{\"backgroundcolor\":\"#E5ECF6\",\"gridcolor\":\"white\",\"linecolor\":\"white\",\"showbackground\":true,\"ticks\":\"\",\"zerolinecolor\":\"white\",\"gridwidth\":2}},\"shapedefaults\":{\"line\":{\"color\":\"#2a3f5f\"}},\"annotationdefaults\":{\"arrowcolor\":\"#2a3f5f\",\"arrowhead\":0,\"arrowwidth\":1},\"geo\":{\"bgcolor\":\"white\",\"landcolor\":\"#E5ECF6\",\"subunitcolor\":\"white\",\"showland\":true,\"showlakes\":true,\"lakecolor\":\"white\"},\"title\":{\"x\":0.05},\"mapbox\":{\"style\":\"light\"}}},\"xaxis\":{\"anchor\":\"y\",\"domain\":[0.0,0.45],\"title\":{\"text\":\"Epoch\"}},\"yaxis\":{\"anchor\":\"x\",\"domain\":[0.0,1.0],\"title\":{\"text\":\"Root Mean Squared Error\"},\"range\":[2.9963863372802737,28.81588363647461]},\"xaxis2\":{\"anchor\":\"y2\",\"domain\":[0.55,1.0],\"title\":{\"text\":\"TRIP_MILES\"}},\"yaxis2\":{\"anchor\":\"x2\",\"domain\":[0.0,1.0],\"title\":{\"text\":\"FARE\"}},\"annotations\":[{\"font\":{\"size\":16},\"showarrow\":false,\"text\":\"Loss Curve\",\"x\":0.225,\"xanchor\":\"center\",\"xref\":\"paper\",\"y\":1.0,\"yanchor\":\"bottom\",\"yref\":\"paper\"},{\"font\":{\"size\":16},\"showarrow\":false,\"text\":\"Model Plot\",\"x\":0.775,\"xanchor\":\"center\",\"xref\":\"paper\",\"y\":1.0,\"yanchor\":\"bottom\",\"yref\":\"paper\"}]},                        {\"responsive\": true}                    ).then(function(){\n",
              "                            \n",
              "var gd = document.getElementById('a95bd98e-5b88-48b3-bec3-6e15df45ed8b');\n",
              "var x = new MutationObserver(function (mutations, observer) {{\n",
              "        var display = window.getComputedStyle(gd).display;\n",
              "        if (!display || display === 'none') {{\n",
              "            console.log([gd, 'removed!']);\n",
              "            Plotly.purge(gd);\n",
              "            observer.disconnect();\n",
              "        }}\n",
              "}});\n",
              "\n",
              "// Listen for the removal of the full notebook cells\n",
              "var notebookContainer = gd.closest('#notebook-container');\n",
              "if (notebookContainer) {{\n",
              "    x.observe(notebookContainer, {childList: true});\n",
              "}}\n",
              "\n",
              "// Listen for the clearing of the current output cell\n",
              "var outputEl = gd.closest('.output');\n",
              "if (outputEl) {{\n",
              "    x.observe(outputEl, {childList: true});\n",
              "}}\n",
              "\n",
              "                        })                };                            </script>        </div>\n",
              "</body>\n",
              "</html>"
            ]
          },
          "metadata": {}
        }
      ],
      "source": [
        "#@title Code - Experiment 1\n",
        "\n",
        "# The following variables are the hyperparameters.\n",
        "learning_rate = 0.001\n",
        "epochs = 20\n",
        "batch_size = 50\n",
        "\n",
        "# Specify the feature and the label.\n",
        "features = ['TRIP_MILES']\n",
        "label = 'FARE'\n",
        "\n",
        "model_1 = run_experiment(training_df, features, label, learning_rate, epochs, batch_size)"
      ]
    },
    {
      "cell_type": "code",
      "execution_count": 13,
      "metadata": {
        "cellView": "form",
        "id": "y8Qnmb0wZ_pQ",
        "outputId": "9db85541-a52e-4c2c-fca6-a22f2548ac44",
        "colab": {
          "base_uri": "https://localhost:8080/"
        }
      },
      "outputs": [
        {
          "output_type": "stream",
          "name": "stdout",
          "text": [
            "\n",
            "Use the loss curve to see where the loss begins to level off during training.\n",
            "\n",
            "With this set of hyperparameters:\n",
            "\n",
            "  learning_rate = 0.001\n",
            "  epochs = 20\n",
            "  batch_size = 50\n",
            "\n",
            "it takes about 5 epochs for the training run to converge to the final model.\n",
            "\n",
            "\n",
            "It appears from the model plot that the model fits the sample data fairly well.\n",
            "\n"
          ]
        }
      ],
      "source": [
        "#@title Double-click to view answers for training model with one feature\n",
        "\n",
        "# How many epochs did it take to converge on the final model?\n",
        "# -----------------------------------------------------------------------------\n",
        "answer = \"\"\"\n",
        "Use the loss curve to see where the loss begins to level off during training.\n",
        "\n",
        "With this set of hyperparameters:\n",
        "\n",
        "  learning_rate = 0.001\n",
        "  epochs = 20\n",
        "  batch_size = 50\n",
        "\n",
        "it takes about 5 epochs for the training run to converge to the final model.\n",
        "\"\"\"\n",
        "print(answer)\n",
        "\n",
        "# How well does the model fit the sample data?\n",
        "# -----------------------------------------------------------------------------\n",
        "answer = '''\n",
        "It appears from the model plot that the model fits the sample data fairly well.\n",
        "'''\n",
        "print(answer)"
      ]
    },
    {
      "cell_type": "markdown",
      "metadata": {
        "id": "MYmWW0a9p1ro"
      },
      "source": [
        "## Experiment with hyperparameters\n",
        "\n",
        "It is common with machine learning to run multiple experiments to find the best set of hyperparmeters to train your model. In this step, try varying the hyperparameters one by one with this set of experiments:\n",
        "\n",
        "* *Experiment 1:* **Increase** the learning rate to **``1``** (batch size at ``50``).\n",
        "* *Experiment 2:* **Decrease** the learning rate to **``0.0001``** (batch size at ``50``).\n",
        "* *Experiment 3:* **Increase** the batch size to **``500``** (learning rate at ``0.001``).\n",
        "\n",
        "**Instructions**\n",
        "1. Update the hyperparameter values in the **Experiment 2** code cell according to the experiment.\n",
        "2. Run the **Experiment 2** code cell.\n",
        "3. After the training run, examine the output and note any differences you see in the loss curve or model output.\n",
        "4. Repeat steps 1 - 3 for each hyperparameter experiment.\n",
        "5. **Check your understanding** by answering these questions:\n",
        "  * How did raising the learning rate impact your ability to train the model?\n",
        "  * How did lowering the learning rate impact your ability to train the model?\n",
        "  * Did changing the batch size effect your training results?\n"
      ]
    },
    {
      "cell_type": "code",
      "execution_count": 14,
      "metadata": {
        "cellView": "form",
        "id": "PdUXEm1xeWcK",
        "outputId": "ddf85629-ce54-4826-a5af-78a24318c966",
        "colab": {
          "base_uri": "https://localhost:8080/",
          "height": 1000
        }
      },
      "outputs": [
        {
          "output_type": "stream",
          "name": "stdout",
          "text": [
            "INFO: starting training experiment with features=['TRIP_MILES'] and label=FARE\n",
            "\n",
            "Epoch 1/20\n",
            "\u001b[1m634/634\u001b[0m \u001b[32m━━━━━━━━━━━━━━━━━━━━\u001b[0m\u001b[37m\u001b[0m \u001b[1m1s\u001b[0m 1ms/step - loss: 1045.9747 - root_mean_squared_error: 32.3275\n",
            "Epoch 2/20\n",
            "\u001b[1m634/634\u001b[0m \u001b[32m━━━━━━━━━━━━━━━━━━━━\u001b[0m\u001b[37m\u001b[0m \u001b[1m1s\u001b[0m 1ms/step - loss: 632.7264 - root_mean_squared_error: 25.1335\n",
            "Epoch 3/20\n",
            "\u001b[1m634/634\u001b[0m \u001b[32m━━━━━━━━━━━━━━━━━━━━\u001b[0m\u001b[37m\u001b[0m \u001b[1m2s\u001b[0m 3ms/step - loss: 323.1699 - root_mean_squared_error: 17.9549\n",
            "Epoch 4/20\n",
            "\u001b[1m634/634\u001b[0m \u001b[32m━━━━━━━━━━━━━━━━━━━━\u001b[0m\u001b[37m\u001b[0m \u001b[1m2s\u001b[0m 1ms/step - loss: 121.4667 - root_mean_squared_error: 10.9880\n",
            "Epoch 5/20\n",
            "\u001b[1m634/634\u001b[0m \u001b[32m━━━━━━━━━━━━━━━━━━━━\u001b[0m\u001b[37m\u001b[0m \u001b[1m1s\u001b[0m 1ms/step - loss: 26.5608 - root_mean_squared_error: 5.1371\n",
            "Epoch 6/20\n",
            "\u001b[1m634/634\u001b[0m \u001b[32m━━━━━━━━━━━━━━━━━━━━\u001b[0m\u001b[37m\u001b[0m \u001b[1m1s\u001b[0m 1ms/step - loss: 15.7942 - root_mean_squared_error: 3.9729\n",
            "Epoch 7/20\n",
            "\u001b[1m634/634\u001b[0m \u001b[32m━━━━━━━━━━━━━━━━━━━━\u001b[0m\u001b[37m\u001b[0m \u001b[1m1s\u001b[0m 1ms/step - loss: 13.6075 - root_mean_squared_error: 3.6819\n",
            "Epoch 8/20\n",
            "\u001b[1m634/634\u001b[0m \u001b[32m━━━━━━━━━━━━━━━━━━━━\u001b[0m\u001b[37m\u001b[0m \u001b[1m1s\u001b[0m 1ms/step - loss: 14.4225 - root_mean_squared_error: 3.7935\n",
            "Epoch 9/20\n",
            "\u001b[1m634/634\u001b[0m \u001b[32m━━━━━━━━━━━━━━━━━━━━\u001b[0m\u001b[37m\u001b[0m \u001b[1m1s\u001b[0m 1ms/step - loss: 14.0753 - root_mean_squared_error: 3.7488\n",
            "Epoch 10/20\n",
            "\u001b[1m634/634\u001b[0m \u001b[32m━━━━━━━━━━━━━━━━━━━━\u001b[0m\u001b[37m\u001b[0m \u001b[1m1s\u001b[0m 1ms/step - loss: 13.9185 - root_mean_squared_error: 3.7272\n",
            "Epoch 11/20\n",
            "\u001b[1m634/634\u001b[0m \u001b[32m━━━━━━━━━━━━━━━━━━━━\u001b[0m\u001b[37m\u001b[0m \u001b[1m1s\u001b[0m 1ms/step - loss: 15.4984 - root_mean_squared_error: 3.9264\n",
            "Epoch 12/20\n",
            "\u001b[1m634/634\u001b[0m \u001b[32m━━━━━━━━━━━━━━━━━━━━\u001b[0m\u001b[37m\u001b[0m \u001b[1m1s\u001b[0m 1ms/step - loss: 14.7737 - root_mean_squared_error: 3.8397\n",
            "Epoch 13/20\n",
            "\u001b[1m634/634\u001b[0m \u001b[32m━━━━━━━━━━━━━━━━━━━━\u001b[0m\u001b[37m\u001b[0m \u001b[1m1s\u001b[0m 1ms/step - loss: 13.7543 - root_mean_squared_error: 3.7042\n",
            "Epoch 14/20\n",
            "\u001b[1m634/634\u001b[0m \u001b[32m━━━━━━━━━━━━━━━━━━━━\u001b[0m\u001b[37m\u001b[0m \u001b[1m2s\u001b[0m 3ms/step - loss: 14.9684 - root_mean_squared_error: 3.8504\n",
            "Epoch 15/20\n",
            "\u001b[1m634/634\u001b[0m \u001b[32m━━━━━━━━━━━━━━━━━━━━\u001b[0m\u001b[37m\u001b[0m \u001b[1m2s\u001b[0m 3ms/step - loss: 13.0681 - root_mean_squared_error: 3.6080\n",
            "Epoch 16/20\n",
            "\u001b[1m634/634\u001b[0m \u001b[32m━━━━━━━━━━━━━━━━━━━━\u001b[0m\u001b[37m\u001b[0m \u001b[1m1s\u001b[0m 1ms/step - loss: 14.6620 - root_mean_squared_error: 3.8241\n",
            "Epoch 17/20\n",
            "\u001b[1m634/634\u001b[0m \u001b[32m━━━━━━━━━━━━━━━━━━━━\u001b[0m\u001b[37m\u001b[0m \u001b[1m1s\u001b[0m 1ms/step - loss: 13.1985 - root_mean_squared_error: 3.6307\n",
            "Epoch 18/20\n",
            "\u001b[1m634/634\u001b[0m \u001b[32m━━━━━━━━━━━━━━━━━━━━\u001b[0m\u001b[37m\u001b[0m \u001b[1m1s\u001b[0m 1ms/step - loss: 13.7308 - root_mean_squared_error: 3.7000\n",
            "Epoch 19/20\n",
            "\u001b[1m634/634\u001b[0m \u001b[32m━━━━━━━━━━━━━━━━━━━━\u001b[0m\u001b[37m\u001b[0m \u001b[1m1s\u001b[0m 1ms/step - loss: 13.6395 - root_mean_squared_error: 3.6905\n",
            "Epoch 20/20\n",
            "\u001b[1m634/634\u001b[0m \u001b[32m━━━━━━━━━━━━━━━━━━━━\u001b[0m\u001b[37m\u001b[0m \u001b[1m1s\u001b[0m 1ms/step - loss: 11.9299 - root_mean_squared_error: 3.4417\n",
            "\n",
            "SUCCESS: training experiment complete\n",
            "\n",
            "--------------------------------------------------------------------------------\n",
            "|                                  MODEL INFO                                  |\n",
            "--------------------------------------------------------------------------------\n",
            "Weight for feature[TRIP_MILES]: 2.282\n",
            "Bias: 4.978\n",
            "\n",
            "FARE = 2.282 * TRIP_MILES + 4.978\n",
            "\n"
          ]
        },
        {
          "output_type": "display_data",
          "data": {
            "text/html": [
              "<html>\n",
              "<head><meta charset=\"utf-8\" /></head>\n",
              "<body>\n",
              "    <div>            <script src=\"https://cdnjs.cloudflare.com/ajax/libs/mathjax/2.7.5/MathJax.js?config=TeX-AMS-MML_SVG\"></script><script type=\"text/javascript\">if (window.MathJax && window.MathJax.Hub && window.MathJax.Hub.Config) {window.MathJax.Hub.Config({SVG: {font: \"STIX-Web\"}});}</script>                <script type=\"text/javascript\">window.PlotlyConfig = {MathJaxConfig: 'local'};</script>\n",
              "        <script charset=\"utf-8\" src=\"https://cdn.plot.ly/plotly-2.35.2.min.js\"></script>                <div id=\"b5110378-cb8c-4a25-8efd-ad99c5723900\" class=\"plotly-graph-div\" style=\"height:525px; width:100%;\"></div>            <script type=\"text/javascript\">                                    window.PLOTLYENV=window.PLOTLYENV || {};                                    if (document.getElementById(\"b5110378-cb8c-4a25-8efd-ad99c5723900\")) {                    Plotly.newPlot(                        \"b5110378-cb8c-4a25-8efd-ad99c5723900\",                        [{\"hovertemplate\":\"TRIP_MILES=%{x}\\u003cbr\\u003eFARE=%{y}\\u003cextra\\u003e\\u003c\\u002fextra\\u003e\",\"legendgroup\":\"\",\"marker\":{\"color\":\"#636efa\",\"symbol\":\"circle\"},\"mode\":\"markers\",\"name\":\"\",\"orientation\":\"v\",\"showlegend\":false,\"x\":[15.74,1.01,18.71,2.12,5.56,7.45,7.5,24.31,17.54,17.66,1.9,15.3,8.72,0.73,8.73,0.6,2.74,10.2,4.04,10.6,1.73,16.69,4.27,10.4,15.5,0.96,17.45,17.74,9.5,14.03,2.11,18.38,1.69,0.69,7.25,18.14,17.73,13.1,1.35,20.93,7.06,2.0,3.24,0.89,18.83,12.4,5.31,8.0,6.72,3.5,1.6,2.13,13.0,11.9,6.9,6.89,3.9,1.4,12.72,4.2,24.48,1.22,2.04,2.3,13.0,18.2,5.74,0.59,7.46,1.5,9.7,8.53,3.73,10.4,18.63,16.54,3.67,13.93,17.58,2.7,4.91,17.0,2.7,4.41,3.99,12.8,1.2,12.2,2.18,1.14,0.62,18.52,9.3,16.5,0.5,5.25,24.34,18.4,10.4,4.51,1.68,1.5,1.2,17.66,15.52,11.98,10.52,1.4,0.7,0.9,17.9,0.69,0.84,1.1,2.09,0.6,18.41,6.1,2.3,15.8,18.26,17.46,11.9,3.71,1.54,3.05,17.43,15.85,1.11,2.53,13.49,16.8,10.9,9.78,1.67,6.7,6.71,18.22,17.07,6.1,0.55,2.72,1.31,0.72,1.18,12.76,0.96,1.01,2.25,4.88,1.71,1.4,10.26,16.63,2.0,0.65,15.37,6.23,8.6,9.1,14.98,0.96,2.58,17.57,2.02,4.6,4.1,7.05,1.4,0.68,3.75,8.7,18.4,2.02,11.2,1.46,3.7,12.3,2.33,2.13,7.8,0.7,2.61,9.13,9.24,1.29,12.68,2.1,1.29,22.86,1.17,33.54,1.0,0.8,1.4,1.23,7.1,0.5,18.13,1.09],\"xaxis\":\"x2\",\"y\":[39.25,7.25,47.5,9.25,25.5,21.5,21.0,71.84,44.5,44.0,8.5,38.0,27.0,5.75,60.37,5.25,11.0,27.25,13.25,27.75,9.0,43.0,27.75,28.0,41.5,7.0,44.0,43.75,24.75,36.5,11.22,46.5,7.0,5.25,22.5,44.75,44.5,34.0,6.25,52.0,19.25,9.75,12.0,6.0,46.75,33.5,16.5,24.0,20.27,14.0,8.0,10.25,34.5,30.5,27.5,20.25,12.83,7.0,34.25,13.5,58.5,9.0,9.25,10.0,34.25,44.75,17.45,5.5,24.5,7.5,29.25,24.25,13.28,28.75,45.75,41.0,13.5,74.87,44.5,11.25,17.9,43.0,10.25,16.01,15.25,34.5,6.75,31.25,8.5,6.5,5.25,45.25,27.75,43.5,4.25,16.75,62.25,45.5,29.25,15.25,8.5,8.25,8.0,54.75,40.0,32.5,30.0,7.75,5.0,7.5,44.75,5.0,9.0,6.5,8.75,4.75,46.75,20.0,9.25,41.25,48.25,43.25,34.5,13.5,8.75,12.05,55.0,41.5,9.0,9.25,36.5,41.75,30.5,25.75,7.5,22.75,20.75,46.25,44.25,20.0,5.5,11.0,9.0,5.5,6.25,34.0,6.25,5.75,9.25,16.75,9.0,7.5,29.25,42.75,9.25,5.0,41.75,31.25,24.25,44.25,38.5,6.0,11.25,43.75,9.5,17.75,13.5,21.0,10.0,5.0,27.75,26.75,47.25,9.32,31.5,9.0,12.25,31.75,12.5,9.0,24.0,5.5,10.75,25.25,27.0,7.0,34.0,9.5,7.75,55.75,7.5,80.0,6.0,5.5,7.0,7.5,35.25,5.5,45.5,7.25],\"yaxis\":\"y2\",\"type\":\"scatter\"},{\"hovertemplate\":\"TRIP_MILES=%{x}\\u003cbr\\u003eFARE_PREDICTED=%{y}\\u003cextra\\u003e\\u003c\\u002fextra\\u003e\",\"legendgroup\":\"\",\"line\":{\"color\":\"#ff0000\",\"dash\":\"solid\",\"width\":3},\"marker\":{\"symbol\":\"circle\"},\"mode\":\"lines\",\"name\":\"\",\"orientation\":\"v\",\"showlegend\":false,\"x\":[15.74,1.01,18.71,2.12,5.56,7.45,7.5,24.31,17.54,17.66,1.9,15.3,8.72,0.73,8.73,0.6,2.74,10.2,4.04,10.6,1.73,16.69,4.27,10.4,15.5,0.96,17.45,17.74,9.5,14.03,2.11,18.38,1.69,0.69,7.25,18.14,17.73,13.1,1.35,20.93,7.06,2.0,3.24,0.89,18.83,12.4,5.31,8.0,6.72,3.5,1.6,2.13,13.0,11.9,6.9,6.89,3.9,1.4,12.72,4.2,24.48,1.22,2.04,2.3,13.0,18.2,5.74,0.59,7.46,1.5,9.7,8.53,3.73,10.4,18.63,16.54,3.67,13.93,17.58,2.7,4.91,17.0,2.7,4.41,3.99,12.8,1.2,12.2,2.18,1.14,0.62,18.52,9.3,16.5,0.5,5.25,24.34,18.4,10.4,4.51,1.68,1.5,1.2,17.66,15.52,11.98,10.52,1.4,0.7,0.9,17.9,0.69,0.84,1.1,2.09,0.6,18.41,6.1,2.3,15.8,18.26,17.46,11.9,3.71,1.54,3.05,17.43,15.85,1.11,2.53,13.49,16.8,10.9,9.78,1.67,6.7,6.71,18.22,17.07,6.1,0.55,2.72,1.31,0.72,1.18,12.76,0.96,1.01,2.25,4.88,1.71,1.4,10.26,16.63,2.0,0.65,15.37,6.23,8.6,9.1,14.98,0.96,2.58,17.57,2.02,4.6,4.1,7.05,1.4,0.68,3.75,8.7,18.4,2.02,11.2,1.46,3.7,12.3,2.33,2.13,7.8,0.7,2.61,9.13,9.24,1.29,12.68,2.1,1.29,22.86,1.17,33.54,1.0,0.8,1.4,1.23,7.1,0.5,18.13,1.09],\"xaxis\":\"x2\",\"y\":[40.90243947505951,7.283229887485504,47.68105810880661,9.81665301322937,17.66798233985901,21.98164874315262,22.09576690196991,60.46229189634323,45.010693192481995,45.284576773643494,9.314533114433289,39.898199677467346,24.880249977111816,6.644168198108673,24.903073608875275,6.347460985183716,11.231718182563782,28.258147478103638,14.198790311813354,29.171092748641968,8.926531374454498,43.07068449258804,14.723733842372893,28.714620113372803,40.35467231273651,7.169111728668213,44.80528050661087,45.46716582775115,26.66049325466156,36.99959844350815,9.793829381465912,46.92787826061249,8.835236847400665,6.55287367105484,21.525176107883453,46.38011109828949,45.4443421959877,34.87700068950653,8.059233367443085,52.74790436029434,21.091527104377747,9.542769432067871,12.372899770736694,7.009346306324005,47.9549416899681,33.27934646606445,17.097391545772552,23.236948490142822,20.315523624420166,12.966314196586609,8.629824161529541,9.839476644992828,34.64876437187195,32.13816487789154,20.726348996162415,20.703525364398956,13.879259467124939,8.173351526260376,34.00970268249512,14.563968420028687,60.85029363632202,7.762526154518127,9.634063959121704,10.227478384971619,34.64876437187195,46.51705288887024,18.078807711601257,6.324637353420258,22.004472374916077,8.401587843894958,27.116965889930725,24.44660097360611,13.491257727146149,28.714620113372803,47.498469054698944,42.72833001613617,13.3543159365654,36.771362125873566,45.10198771953582,11.140423655509949,16.184446275234222,43.77821707725525,11.140423655509949,15.04326468706131,14.084672152996063,34.19229173660278,7.716878890991211,32.82287383079529,9.95359480381012,7.579937100410461,6.393108248710632,47.2474091053009,26.204020619392395,42.637035489082336,6.119224667549133,16.960449755191803,60.530762791633606,46.973525524139404,28.714620113372803,15.271501004695892,8.812413215637207,8.401587843894958,7.716878890991211,45.284576773643494,40.40031957626343,32.32075393199921,28.9885036945343,8.173351526260376,6.575697302818298,7.032169938087463,45.83234393596649,6.55287367105484,6.895228147506714,7.488642573356628,9.748182117938995,6.347460985183716,46.99634915590286,18.900458455085754,10.227478384971619,41.03938126564026,46.653994679450996,44.82810413837433,32.13816487789154,13.445610463619232,8.492882370948792,11.939250767230988,44.759633243083954,41.15349942445755,7.511466205120087,10.752421915531158,35.7671223282814,43.321744441986084,29.855801701545715,27.29955494403839,8.789589583873749,20.26987636089325,20.292699992656708,46.562700152397156,43.93798249959946,18.900458455085754,6.233342826366425,11.186070919036865,7.967938840389252,6.621344566345215,7.671231627464294,34.10099720954895,7.169111728668213,7.283229887485504,10.113360226154327,16.115975379943848,8.880884110927582,8.173351526260376,28.395089268684387,42.933742702007294,9.542769432067871,6.461579144001007,40.057965099811554,19.19716566801071,24.606366395950317,25.74754798412323,39.16784346103668,7.169111728668213,10.86654007434845,45.07916408777237,9.588416695594788,15.476913690567017,14.335732102394104,21.06870347261429,8.173351526260376,6.530050039291382,13.536904990673065,24.8346027135849,46.973525524139404,9.588416695594788,30.540510654449463,8.310293316841125,13.422786831855774,33.05111014842987,10.295949280261993,9.839476644992828,22.780475854873657,6.575697302818298,10.935010969638824,25.81601887941361,26.067078828811646,7.922291576862335,33.918408155441284,9.771005749702454,7.922291576862335,57.152865290641785,7.648407995700836,81.5285040140152,7.260406255722046,6.803933620452881,8.173351526260376,7.785349786281586,21.18282163143158,6.119224667549133,46.35728746652603,7.46581894159317],\"yaxis\":\"y2\",\"type\":\"scatter\"},{\"hovertemplate\":\"x=%{x}\\u003cbr\\u003ey=%{y}\\u003cextra\\u003e\\u003c\\u002fextra\\u003e\",\"legendgroup\":\"\",\"line\":{\"color\":\"#ff0000\",\"dash\":\"solid\",\"width\":3},\"marker\":{\"symbol\":\"circle\"},\"mode\":\"lines\",\"name\":\"\",\"orientation\":\"v\",\"showlegend\":false,\"x\":[0,1,2,3,4,5,6,7,8,9,10,11,12,13,14,15,16,17,18,19],\"xaxis\":\"x\",\"y\":[30.645751953125,23.44485855102539,16.345754623413086,9.544054985046387,4.614075183868408,3.906357526779175,3.829958915710449,3.7860331535339355,3.764376401901245,3.753641366958618,3.7491490840911865,3.7473247051239014,3.7457728385925293,3.746044158935547,3.7456769943237305,3.745652675628662,3.745680093765259,3.745957612991333,3.745765447616577,3.745805025100708],\"yaxis\":\"y\",\"type\":\"scatter\"}],                        {\"template\":{\"data\":{\"histogram2dcontour\":[{\"type\":\"histogram2dcontour\",\"colorbar\":{\"outlinewidth\":0,\"ticks\":\"\"},\"colorscale\":[[0.0,\"#0d0887\"],[0.1111111111111111,\"#46039f\"],[0.2222222222222222,\"#7201a8\"],[0.3333333333333333,\"#9c179e\"],[0.4444444444444444,\"#bd3786\"],[0.5555555555555556,\"#d8576b\"],[0.6666666666666666,\"#ed7953\"],[0.7777777777777778,\"#fb9f3a\"],[0.8888888888888888,\"#fdca26\"],[1.0,\"#f0f921\"]]}],\"choropleth\":[{\"type\":\"choropleth\",\"colorbar\":{\"outlinewidth\":0,\"ticks\":\"\"}}],\"histogram2d\":[{\"type\":\"histogram2d\",\"colorbar\":{\"outlinewidth\":0,\"ticks\":\"\"},\"colorscale\":[[0.0,\"#0d0887\"],[0.1111111111111111,\"#46039f\"],[0.2222222222222222,\"#7201a8\"],[0.3333333333333333,\"#9c179e\"],[0.4444444444444444,\"#bd3786\"],[0.5555555555555556,\"#d8576b\"],[0.6666666666666666,\"#ed7953\"],[0.7777777777777778,\"#fb9f3a\"],[0.8888888888888888,\"#fdca26\"],[1.0,\"#f0f921\"]]}],\"heatmap\":[{\"type\":\"heatmap\",\"colorbar\":{\"outlinewidth\":0,\"ticks\":\"\"},\"colorscale\":[[0.0,\"#0d0887\"],[0.1111111111111111,\"#46039f\"],[0.2222222222222222,\"#7201a8\"],[0.3333333333333333,\"#9c179e\"],[0.4444444444444444,\"#bd3786\"],[0.5555555555555556,\"#d8576b\"],[0.6666666666666666,\"#ed7953\"],[0.7777777777777778,\"#fb9f3a\"],[0.8888888888888888,\"#fdca26\"],[1.0,\"#f0f921\"]]}],\"heatmapgl\":[{\"type\":\"heatmapgl\",\"colorbar\":{\"outlinewidth\":0,\"ticks\":\"\"},\"colorscale\":[[0.0,\"#0d0887\"],[0.1111111111111111,\"#46039f\"],[0.2222222222222222,\"#7201a8\"],[0.3333333333333333,\"#9c179e\"],[0.4444444444444444,\"#bd3786\"],[0.5555555555555556,\"#d8576b\"],[0.6666666666666666,\"#ed7953\"],[0.7777777777777778,\"#fb9f3a\"],[0.8888888888888888,\"#fdca26\"],[1.0,\"#f0f921\"]]}],\"contourcarpet\":[{\"type\":\"contourcarpet\",\"colorbar\":{\"outlinewidth\":0,\"ticks\":\"\"}}],\"contour\":[{\"type\":\"contour\",\"colorbar\":{\"outlinewidth\":0,\"ticks\":\"\"},\"colorscale\":[[0.0,\"#0d0887\"],[0.1111111111111111,\"#46039f\"],[0.2222222222222222,\"#7201a8\"],[0.3333333333333333,\"#9c179e\"],[0.4444444444444444,\"#bd3786\"],[0.5555555555555556,\"#d8576b\"],[0.6666666666666666,\"#ed7953\"],[0.7777777777777778,\"#fb9f3a\"],[0.8888888888888888,\"#fdca26\"],[1.0,\"#f0f921\"]]}],\"surface\":[{\"type\":\"surface\",\"colorbar\":{\"outlinewidth\":0,\"ticks\":\"\"},\"colorscale\":[[0.0,\"#0d0887\"],[0.1111111111111111,\"#46039f\"],[0.2222222222222222,\"#7201a8\"],[0.3333333333333333,\"#9c179e\"],[0.4444444444444444,\"#bd3786\"],[0.5555555555555556,\"#d8576b\"],[0.6666666666666666,\"#ed7953\"],[0.7777777777777778,\"#fb9f3a\"],[0.8888888888888888,\"#fdca26\"],[1.0,\"#f0f921\"]]}],\"mesh3d\":[{\"type\":\"mesh3d\",\"colorbar\":{\"outlinewidth\":0,\"ticks\":\"\"}}],\"scatter\":[{\"fillpattern\":{\"fillmode\":\"overlay\",\"size\":10,\"solidity\":0.2},\"type\":\"scatter\"}],\"parcoords\":[{\"type\":\"parcoords\",\"line\":{\"colorbar\":{\"outlinewidth\":0,\"ticks\":\"\"}}}],\"scatterpolargl\":[{\"type\":\"scatterpolargl\",\"marker\":{\"colorbar\":{\"outlinewidth\":0,\"ticks\":\"\"}}}],\"bar\":[{\"error_x\":{\"color\":\"#2a3f5f\"},\"error_y\":{\"color\":\"#2a3f5f\"},\"marker\":{\"line\":{\"color\":\"#E5ECF6\",\"width\":0.5},\"pattern\":{\"fillmode\":\"overlay\",\"size\":10,\"solidity\":0.2}},\"type\":\"bar\"}],\"scattergeo\":[{\"type\":\"scattergeo\",\"marker\":{\"colorbar\":{\"outlinewidth\":0,\"ticks\":\"\"}}}],\"scatterpolar\":[{\"type\":\"scatterpolar\",\"marker\":{\"colorbar\":{\"outlinewidth\":0,\"ticks\":\"\"}}}],\"histogram\":[{\"marker\":{\"pattern\":{\"fillmode\":\"overlay\",\"size\":10,\"solidity\":0.2}},\"type\":\"histogram\"}],\"scattergl\":[{\"type\":\"scattergl\",\"marker\":{\"colorbar\":{\"outlinewidth\":0,\"ticks\":\"\"}}}],\"scatter3d\":[{\"type\":\"scatter3d\",\"line\":{\"colorbar\":{\"outlinewidth\":0,\"ticks\":\"\"}},\"marker\":{\"colorbar\":{\"outlinewidth\":0,\"ticks\":\"\"}}}],\"scattermapbox\":[{\"type\":\"scattermapbox\",\"marker\":{\"colorbar\":{\"outlinewidth\":0,\"ticks\":\"\"}}}],\"scatterternary\":[{\"type\":\"scatterternary\",\"marker\":{\"colorbar\":{\"outlinewidth\":0,\"ticks\":\"\"}}}],\"scattercarpet\":[{\"type\":\"scattercarpet\",\"marker\":{\"colorbar\":{\"outlinewidth\":0,\"ticks\":\"\"}}}],\"carpet\":[{\"aaxis\":{\"endlinecolor\":\"#2a3f5f\",\"gridcolor\":\"white\",\"linecolor\":\"white\",\"minorgridcolor\":\"white\",\"startlinecolor\":\"#2a3f5f\"},\"baxis\":{\"endlinecolor\":\"#2a3f5f\",\"gridcolor\":\"white\",\"linecolor\":\"white\",\"minorgridcolor\":\"white\",\"startlinecolor\":\"#2a3f5f\"},\"type\":\"carpet\"}],\"table\":[{\"cells\":{\"fill\":{\"color\":\"#EBF0F8\"},\"line\":{\"color\":\"white\"}},\"header\":{\"fill\":{\"color\":\"#C8D4E3\"},\"line\":{\"color\":\"white\"}},\"type\":\"table\"}],\"barpolar\":[{\"marker\":{\"line\":{\"color\":\"#E5ECF6\",\"width\":0.5},\"pattern\":{\"fillmode\":\"overlay\",\"size\":10,\"solidity\":0.2}},\"type\":\"barpolar\"}],\"pie\":[{\"automargin\":true,\"type\":\"pie\"}]},\"layout\":{\"autotypenumbers\":\"strict\",\"colorway\":[\"#636efa\",\"#EF553B\",\"#00cc96\",\"#ab63fa\",\"#FFA15A\",\"#19d3f3\",\"#FF6692\",\"#B6E880\",\"#FF97FF\",\"#FECB52\"],\"font\":{\"color\":\"#2a3f5f\"},\"hovermode\":\"closest\",\"hoverlabel\":{\"align\":\"left\"},\"paper_bgcolor\":\"white\",\"plot_bgcolor\":\"#E5ECF6\",\"polar\":{\"bgcolor\":\"#E5ECF6\",\"angularaxis\":{\"gridcolor\":\"white\",\"linecolor\":\"white\",\"ticks\":\"\"},\"radialaxis\":{\"gridcolor\":\"white\",\"linecolor\":\"white\",\"ticks\":\"\"}},\"ternary\":{\"bgcolor\":\"#E5ECF6\",\"aaxis\":{\"gridcolor\":\"white\",\"linecolor\":\"white\",\"ticks\":\"\"},\"baxis\":{\"gridcolor\":\"white\",\"linecolor\":\"white\",\"ticks\":\"\"},\"caxis\":{\"gridcolor\":\"white\",\"linecolor\":\"white\",\"ticks\":\"\"}},\"coloraxis\":{\"colorbar\":{\"outlinewidth\":0,\"ticks\":\"\"}},\"colorscale\":{\"sequential\":[[0.0,\"#0d0887\"],[0.1111111111111111,\"#46039f\"],[0.2222222222222222,\"#7201a8\"],[0.3333333333333333,\"#9c179e\"],[0.4444444444444444,\"#bd3786\"],[0.5555555555555556,\"#d8576b\"],[0.6666666666666666,\"#ed7953\"],[0.7777777777777778,\"#fb9f3a\"],[0.8888888888888888,\"#fdca26\"],[1.0,\"#f0f921\"]],\"sequentialminus\":[[0.0,\"#0d0887\"],[0.1111111111111111,\"#46039f\"],[0.2222222222222222,\"#7201a8\"],[0.3333333333333333,\"#9c179e\"],[0.4444444444444444,\"#bd3786\"],[0.5555555555555556,\"#d8576b\"],[0.6666666666666666,\"#ed7953\"],[0.7777777777777778,\"#fb9f3a\"],[0.8888888888888888,\"#fdca26\"],[1.0,\"#f0f921\"]],\"diverging\":[[0,\"#8e0152\"],[0.1,\"#c51b7d\"],[0.2,\"#de77ae\"],[0.3,\"#f1b6da\"],[0.4,\"#fde0ef\"],[0.5,\"#f7f7f7\"],[0.6,\"#e6f5d0\"],[0.7,\"#b8e186\"],[0.8,\"#7fbc41\"],[0.9,\"#4d9221\"],[1,\"#276419\"]]},\"xaxis\":{\"gridcolor\":\"white\",\"linecolor\":\"white\",\"ticks\":\"\",\"title\":{\"standoff\":15},\"zerolinecolor\":\"white\",\"automargin\":true,\"zerolinewidth\":2},\"yaxis\":{\"gridcolor\":\"white\",\"linecolor\":\"white\",\"ticks\":\"\",\"title\":{\"standoff\":15},\"zerolinecolor\":\"white\",\"automargin\":true,\"zerolinewidth\":2},\"scene\":{\"xaxis\":{\"backgroundcolor\":\"#E5ECF6\",\"gridcolor\":\"white\",\"linecolor\":\"white\",\"showbackground\":true,\"ticks\":\"\",\"zerolinecolor\":\"white\",\"gridwidth\":2},\"yaxis\":{\"backgroundcolor\":\"#E5ECF6\",\"gridcolor\":\"white\",\"linecolor\":\"white\",\"showbackground\":true,\"ticks\":\"\",\"zerolinecolor\":\"white\",\"gridwidth\":2},\"zaxis\":{\"backgroundcolor\":\"#E5ECF6\",\"gridcolor\":\"white\",\"linecolor\":\"white\",\"showbackground\":true,\"ticks\":\"\",\"zerolinecolor\":\"white\",\"gridwidth\":2}},\"shapedefaults\":{\"line\":{\"color\":\"#2a3f5f\"}},\"annotationdefaults\":{\"arrowcolor\":\"#2a3f5f\",\"arrowhead\":0,\"arrowwidth\":1},\"geo\":{\"bgcolor\":\"white\",\"landcolor\":\"#E5ECF6\",\"subunitcolor\":\"white\",\"showland\":true,\"showlakes\":true,\"lakecolor\":\"white\"},\"title\":{\"x\":0.05},\"mapbox\":{\"style\":\"light\"}}},\"xaxis\":{\"anchor\":\"y\",\"domain\":[0.0,0.45],\"title\":{\"text\":\"Epoch\"}},\"yaxis\":{\"anchor\":\"x\",\"domain\":[0.0,1.0],\"title\":{\"text\":\"Root Mean Squared Error\"},\"range\":[2.99652214050293,30.645751953125]},\"xaxis2\":{\"anchor\":\"y2\",\"domain\":[0.55,1.0],\"title\":{\"text\":\"TRIP_MILES\"}},\"yaxis2\":{\"anchor\":\"x2\",\"domain\":[0.0,1.0],\"title\":{\"text\":\"FARE\"}},\"annotations\":[{\"font\":{\"size\":16},\"showarrow\":false,\"text\":\"Loss Curve\",\"x\":0.225,\"xanchor\":\"center\",\"xref\":\"paper\",\"y\":1.0,\"yanchor\":\"bottom\",\"yref\":\"paper\"},{\"font\":{\"size\":16},\"showarrow\":false,\"text\":\"Model Plot\",\"x\":0.775,\"xanchor\":\"center\",\"xref\":\"paper\",\"y\":1.0,\"yanchor\":\"bottom\",\"yref\":\"paper\"}]},                        {\"responsive\": true}                    ).then(function(){\n",
              "                            \n",
              "var gd = document.getElementById('b5110378-cb8c-4a25-8efd-ad99c5723900');\n",
              "var x = new MutationObserver(function (mutations, observer) {{\n",
              "        var display = window.getComputedStyle(gd).display;\n",
              "        if (!display || display === 'none') {{\n",
              "            console.log([gd, 'removed!']);\n",
              "            Plotly.purge(gd);\n",
              "            observer.disconnect();\n",
              "        }}\n",
              "}});\n",
              "\n",
              "// Listen for the removal of the full notebook cells\n",
              "var notebookContainer = gd.closest('#notebook-container');\n",
              "if (notebookContainer) {{\n",
              "    x.observe(notebookContainer, {childList: true});\n",
              "}}\n",
              "\n",
              "// Listen for the clearing of the current output cell\n",
              "var outputEl = gd.closest('.output');\n",
              "if (outputEl) {{\n",
              "    x.observe(outputEl, {childList: true});\n",
              "}}\n",
              "\n",
              "                        })                };                            </script>        </div>\n",
              "</body>\n",
              "</html>"
            ]
          },
          "metadata": {}
        }
      ],
      "source": [
        "#@title Code - Experiment 2\n",
        "\n",
        "# The following variables are the hyperparameters.\n",
        "# TODO - Adjust these hyperparameters to see how they impact a training run.\n",
        "learning_rate = 0.001\n",
        "epochs = 20\n",
        "batch_size = 50\n",
        "\n",
        "# Specify the feature and the label.\n",
        "features = ['TRIP_MILES']\n",
        "label = 'FARE'\n",
        "\n",
        "model_1 = run_experiment(training_df, features, label, learning_rate, epochs, batch_size)"
      ]
    },
    {
      "cell_type": "code",
      "execution_count": 15,
      "metadata": {
        "cellView": "form",
        "id": "Od7vJJpHiHYB",
        "outputId": "87599dba-46ab-4730-8264-5bf394329352",
        "colab": {
          "base_uri": "https://localhost:8080/"
        }
      },
      "outputs": [
        {
          "output_type": "stream",
          "name": "stdout",
          "text": [
            "\n",
            "When the learning rate is too high, the loss curve bounces around and does not\n",
            "appear to be moving towards convergence with each iteration. Also, notice that\n",
            "the predicted model does not fit the data very well. With a learning rate that\n",
            "is too high, it is unlikely that you will be able to train a model with good\n",
            "results.\n",
            "\n",
            "\n",
            "When the learning rate is too small, it may take longer for the loss curve to\n",
            "converge. With a small learning rate the loss curve decreases slowly, but does\n",
            "not show a dramatic drop or leveling off. With a small learning rate you could\n",
            "increase the number of epochs so that your model will eventually converge, but\n",
            "it will take longer.\n",
            "\n",
            "\n",
            "Increasing the batch size makes each epoch run faster, but as with the smaller\n",
            "learning rate, the model does not converge with just 20 epochs. If you have\n",
            "time, try increasing the number of epochs and eventually you should see the\n",
            "model converge.\n",
            "\n"
          ]
        }
      ],
      "source": [
        "#@title Double-click to view answers for hyperparameter experiments\n",
        "\n",
        "# How did raising the learning rate impact your ability to train the model?\n",
        "# -----------------------------------------------------------------------------\n",
        "answer = \"\"\"\n",
        "When the learning rate is too high, the loss curve bounces around and does not\n",
        "appear to be moving towards convergence with each iteration. Also, notice that\n",
        "the predicted model does not fit the data very well. With a learning rate that\n",
        "is too high, it is unlikely that you will be able to train a model with good\n",
        "results.\n",
        "\"\"\"\n",
        "print(answer)\n",
        "\n",
        "# How did lowering the learning rate impact your ability to train the model?\n",
        "# -----------------------------------------------------------------------------\n",
        "answer = '''\n",
        "When the learning rate is too small, it may take longer for the loss curve to\n",
        "converge. With a small learning rate the loss curve decreases slowly, but does\n",
        "not show a dramatic drop or leveling off. With a small learning rate you could\n",
        "increase the number of epochs so that your model will eventually converge, but\n",
        "it will take longer.\n",
        "'''\n",
        "print(answer)\n",
        "\n",
        "# Did changing the batch size effect your training results?\n",
        "# -----------------------------------------------------------------------------\n",
        "answer = '''\n",
        "Increasing the batch size makes each epoch run faster, but as with the smaller\n",
        "learning rate, the model does not converge with just 20 epochs. If you have\n",
        "time, try increasing the number of epochs and eventually you should see the\n",
        "model converge.\n",
        "'''\n",
        "print(answer)"
      ]
    },
    {
      "cell_type": "markdown",
      "metadata": {
        "id": "o27u0JRj_gJr"
      },
      "source": [
        "## Train a model with two features\n",
        "\n",
        "The model you trained with the feature ``TOTAL_MILES`` demonstrates fairly strong predictive power, but is it possible to do better? In this step, try training the model with two features, ``TRIP_MILES`` and ``TRIP_MINUTES``, to see if you can improve the model. You may recall that the original dataset does not include a feature ``TRIP_MINUTES``, but this feature can be easily derived from ``TRIP_SECONDS`` as shown in the code below.*\n",
        "\n",
        "**Instructions**\n",
        "1. Review the code in **Experiment 3** code cell.\n",
        "1. Run the **Experiment 3** code cell.\n",
        "1. Review the output from the training run and answer these questions:\n",
        "  * Does the model with two features produce better results than one using a single feature?\n",
        "  * Does it make a difference if you use ``TRIP_SECONDS`` instead of ``TRIP_MINUTES``?\n",
        "  * How well do you think the model comes to the ground truth fare calculation for Chicago Taxi Trips?\n",
        "\n",
        "\n",
        "Notice that the scatter plot of the features vs. the label is a three dimensional (3-D) plot. This representation allows you to visualize both features and the label all together. The two features (TRIP_MILES and TRIP_MINUTES) are on the x and y axis, and the label (FARE) is on the z axis. The plot shows individual examples in the dataset as circles, and the model as a surface (plane). With this 3-D model, if the trained model is good you would expect most of the examples to land on the plane surface. The 3-D plot is interactive so you can explore the data further by clicking or dragging the plot.\n"
      ]
    },
    {
      "cell_type": "code",
      "execution_count": 16,
      "metadata": {
        "cellView": "form",
        "id": "Mg3gUYOoBAtd",
        "outputId": "ef989e26-cc9d-4f7b-f2ff-b7e523492177",
        "colab": {
          "base_uri": "https://localhost:8080/",
          "height": 1000
        }
      },
      "outputs": [
        {
          "output_type": "stream",
          "name": "stdout",
          "text": [
            "INFO: starting training experiment with features=['TRIP_MILES', 'TRIP_MINUTES'] and label=FARE\n",
            "\n",
            "Epoch 1/20\n"
          ]
        },
        {
          "output_type": "stream",
          "name": "stderr",
          "text": [
            "<ipython-input-16-8892146dfcd1>:8: SettingWithCopyWarning:\n",
            "\n",
            "\n",
            "A value is trying to be set on a copy of a slice from a DataFrame.\n",
            "Try using .loc[row_indexer,col_indexer] = value instead\n",
            "\n",
            "See the caveats in the documentation: https://pandas.pydata.org/pandas-docs/stable/user_guide/indexing.html#returning-a-view-versus-a-copy\n",
            "\n"
          ]
        },
        {
          "output_type": "stream",
          "name": "stdout",
          "text": [
            "\u001b[1m634/634\u001b[0m \u001b[32m━━━━━━━━━━━━━━━━━━━━\u001b[0m\u001b[37m\u001b[0m \u001b[1m1s\u001b[0m 1ms/step - loss: 4456.7134 - root_mean_squared_error: 66.6723\n",
            "Epoch 2/20\n",
            "\u001b[1m634/634\u001b[0m \u001b[32m━━━━━━━━━━━━━━━━━━━━\u001b[0m\u001b[37m\u001b[0m \u001b[1m1s\u001b[0m 1ms/step - loss: 1870.5175 - root_mean_squared_error: 43.1297\n",
            "Epoch 3/20\n",
            "\u001b[1m634/634\u001b[0m \u001b[32m━━━━━━━━━━━━━━━━━━━━\u001b[0m\u001b[37m\u001b[0m \u001b[1m1s\u001b[0m 1ms/step - loss: 425.8912 - root_mean_squared_error: 20.4347\n",
            "Epoch 4/20\n",
            "\u001b[1m634/634\u001b[0m \u001b[32m━━━━━━━━━━━━━━━━━━━━\u001b[0m\u001b[37m\u001b[0m \u001b[1m2s\u001b[0m 2ms/step - loss: 22.6149 - root_mean_squared_error: 4.7480\n",
            "Epoch 5/20\n",
            "\u001b[1m634/634\u001b[0m \u001b[32m━━━━━━━━━━━━━━━━━━━━\u001b[0m\u001b[37m\u001b[0m \u001b[1m1s\u001b[0m 2ms/step - loss: 14.7180 - root_mean_squared_error: 3.8347\n",
            "Epoch 6/20\n",
            "\u001b[1m634/634\u001b[0m \u001b[32m━━━━━━━━━━━━━━━━━━━━\u001b[0m\u001b[37m\u001b[0m \u001b[1m1s\u001b[0m 2ms/step - loss: 11.8199 - root_mean_squared_error: 3.4362\n",
            "Epoch 7/20\n",
            "\u001b[1m634/634\u001b[0m \u001b[32m━━━━━━━━━━━━━━━━━━━━\u001b[0m\u001b[37m\u001b[0m \u001b[1m1s\u001b[0m 1ms/step - loss: 13.1087 - root_mean_squared_error: 3.6144\n",
            "Epoch 8/20\n",
            "\u001b[1m634/634\u001b[0m \u001b[32m━━━━━━━━━━━━━━━━━━━━\u001b[0m\u001b[37m\u001b[0m \u001b[1m1s\u001b[0m 1ms/step - loss: 10.8247 - root_mean_squared_error: 3.2809\n",
            "Epoch 9/20\n",
            "\u001b[1m634/634\u001b[0m \u001b[32m━━━━━━━━━━━━━━━━━━━━\u001b[0m\u001b[37m\u001b[0m \u001b[1m1s\u001b[0m 1ms/step - loss: 12.5504 - root_mean_squared_error: 3.5383\n",
            "Epoch 10/20\n",
            "\u001b[1m634/634\u001b[0m \u001b[32m━━━━━━━━━━━━━━━━━━━━\u001b[0m\u001b[37m\u001b[0m \u001b[1m1s\u001b[0m 1ms/step - loss: 11.9039 - root_mean_squared_error: 3.4384\n",
            "Epoch 11/20\n",
            "\u001b[1m634/634\u001b[0m \u001b[32m━━━━━━━━━━━━━━━━━━━━\u001b[0m\u001b[37m\u001b[0m \u001b[1m1s\u001b[0m 1ms/step - loss: 10.7149 - root_mean_squared_error: 3.2605\n",
            "Epoch 12/20\n",
            "\u001b[1m634/634\u001b[0m \u001b[32m━━━━━━━━━━━━━━━━━━━━\u001b[0m\u001b[37m\u001b[0m \u001b[1m1s\u001b[0m 1ms/step - loss: 11.5962 - root_mean_squared_error: 3.4021\n",
            "Epoch 13/20\n",
            "\u001b[1m634/634\u001b[0m \u001b[32m━━━━━━━━━━━━━━━━━━━━\u001b[0m\u001b[37m\u001b[0m \u001b[1m1s\u001b[0m 1ms/step - loss: 11.0629 - root_mean_squared_error: 3.3143\n",
            "Epoch 14/20\n",
            "\u001b[1m634/634\u001b[0m \u001b[32m━━━━━━━━━━━━━━━━━━━━\u001b[0m\u001b[37m\u001b[0m \u001b[1m1s\u001b[0m 1ms/step - loss: 11.8970 - root_mean_squared_error: 3.4428\n",
            "Epoch 15/20\n",
            "\u001b[1m634/634\u001b[0m \u001b[32m━━━━━━━━━━━━━━━━━━━━\u001b[0m\u001b[37m\u001b[0m \u001b[1m1s\u001b[0m 1ms/step - loss: 12.9536 - root_mean_squared_error: 3.5783\n",
            "Epoch 16/20\n",
            "\u001b[1m634/634\u001b[0m \u001b[32m━━━━━━━━━━━━━━━━━━━━\u001b[0m\u001b[37m\u001b[0m \u001b[1m2s\u001b[0m 2ms/step - loss: 11.1370 - root_mean_squared_error: 3.3325\n",
            "Epoch 17/20\n",
            "\u001b[1m634/634\u001b[0m \u001b[32m━━━━━━━━━━━━━━━━━━━━\u001b[0m\u001b[37m\u001b[0m \u001b[1m1s\u001b[0m 2ms/step - loss: 12.3551 - root_mean_squared_error: 3.5043\n",
            "Epoch 18/20\n",
            "\u001b[1m634/634\u001b[0m \u001b[32m━━━━━━━━━━━━━━━━━━━━\u001b[0m\u001b[37m\u001b[0m \u001b[1m1s\u001b[0m 1ms/step - loss: 11.7897 - root_mean_squared_error: 3.4309\n",
            "Epoch 19/20\n",
            "\u001b[1m634/634\u001b[0m \u001b[32m━━━━━━━━━━━━━━━━━━━━\u001b[0m\u001b[37m\u001b[0m \u001b[1m1s\u001b[0m 1ms/step - loss: 12.1108 - root_mean_squared_error: 3.4677\n",
            "Epoch 20/20\n",
            "\u001b[1m634/634\u001b[0m \u001b[32m━━━━━━━━━━━━━━━━━━━━\u001b[0m\u001b[37m\u001b[0m \u001b[1m1s\u001b[0m 1ms/step - loss: 12.1967 - root_mean_squared_error: 3.4897\n",
            "\n",
            "SUCCESS: training experiment complete\n",
            "\n",
            "--------------------------------------------------------------------------------\n",
            "|                                  MODEL INFO                                  |\n",
            "--------------------------------------------------------------------------------\n",
            "Weight for feature[TRIP_MILES]: 2.031\n",
            "Weight for feature[TRIP_MINUTES]: 0.149\n",
            "Bias: 3.836\n",
            "\n",
            "FARE = 2.031 * TRIP_MILES + 0.149 * TRIP_MINUTES + 3.836\n",
            "\n"
          ]
        },
        {
          "output_type": "display_data",
          "data": {
            "text/html": [
              "<html>\n",
              "<head><meta charset=\"utf-8\" /></head>\n",
              "<body>\n",
              "    <div>            <script src=\"https://cdnjs.cloudflare.com/ajax/libs/mathjax/2.7.5/MathJax.js?config=TeX-AMS-MML_SVG\"></script><script type=\"text/javascript\">if (window.MathJax && window.MathJax.Hub && window.MathJax.Hub.Config) {window.MathJax.Hub.Config({SVG: {font: \"STIX-Web\"}});}</script>                <script type=\"text/javascript\">window.PlotlyConfig = {MathJaxConfig: 'local'};</script>\n",
              "        <script charset=\"utf-8\" src=\"https://cdn.plot.ly/plotly-2.35.2.min.js\"></script>                <div id=\"5cd2e1d2-6fab-4804-8e3c-fc10f00bceb8\" class=\"plotly-graph-div\" style=\"height:525px; width:100%;\"></div>            <script type=\"text/javascript\">                                    window.PLOTLYENV=window.PLOTLYENV || {};                                    if (document.getElementById(\"5cd2e1d2-6fab-4804-8e3c-fc10f00bceb8\")) {                    Plotly.newPlot(                        \"5cd2e1d2-6fab-4804-8e3c-fc10f00bceb8\",                        [{\"hovertemplate\":\"TRIP_MILES=%{x}\\u003cbr\\u003eTRIP_MINUTES=%{y}\\u003cbr\\u003eFARE=%{z}\\u003cextra\\u003e\\u003c\\u002fextra\\u003e\",\"legendgroup\":\"\",\"marker\":{\"color\":\"#636efa\",\"symbol\":\"circle\"},\"mode\":\"markers\",\"name\":\"\",\"scene\":\"scene\",\"showlegend\":false,\"x\":[4.9,6.46,2.52,2.42,1.4,0.84,2.12,18.23,10.64,3.3,11.72,1.5,8.08,1.9,14.0,0.9,1.0,15.9,1.25,0.62,3.29,4.02,6.61,3.38,4.7,27.8,26.2,0.5,0.83,3.59,10.29,2.98,16.18,1.98,0.7,5.4,1.44,1.17,0.52,1.01,2.3,3.15,4.37,1.62,9.26,13.8,19.0,1.23,3.32,6.67,12.1,1.4,17.12,17.8,17.54,1.45,12.47,3.8,1.75,0.91,11.02,0.9,8.3,2.57,11.85,1.63,11.62,11.02,0.73,2.3,0.63,1.23,16.3,17.26,15.1,17.11,13.92,1.81,14.57,18.7,18.38,1.4,13.98,0.73,17.21,4.82,8.0,12.86,12.81,4.03,0.8,1.5,3.1,1.28,1.46,0.6,1.1,3.83,1.9,12.69,1.29,2.6,1.01,16.9,9.9,1.0,0.74,1.98,2.98,1.16,1.17,12.02,3.83,1.2,17.0,29.81,1.6,17.5,17.46,18.2,0.88,6.3,1.05,4.2,17.87,2.01,0.7,1.82,0.88,3.21,1.69,1.4,1.0,0.84,7.1,3.4,1.43,17.5,12.2,14.48,11.44,0.7,2.47,6.22,35.8,0.58,0.79,17.87,7.0,14.35,1.87,5.99,1.49,0.6,12.38,1.9,1.4,1.66,1.3,1.98,2.85,6.5,16.21,21.8,2.93,1.42,2.64,1.45,6.6,0.87,1.15,1.18,5.96,16.24,3.72,0.8,17.41,13.75,1.18,1.8,4.3,5.06,8.31,2.5,7.69,16.52,1.07,1.34,1.47,0.9,0.79,16.88,18.27,0.59,8.9,1.6,3.1,17.97,1.2,17.67],\"y\":[12.0,62.833333333333336,14.166666666666666,17.566666666666666,8.0,5.816666666666666,11.766666666666667,32.81666666666667,18.566666666666666,19.366666666666667,18.733333333333334,10.0,44.2,8.65,36.0,6.583333333333333,7.0,24.0,9.633333333333333,4.25,10.766666666666667,11.65,20.483333333333334,6.7,15.0,32.0,31.883333333333333,3.0,5.083333333333333,14.05,26.5,9.2,18.55,11.116666666666667,4.683333333333334,14.4,8.2,8.133333333333333,1.3166666666666667,4.216666666666667,10.0,11.2,20.85,16.05,19.016666666666666,38.0,28.0,3.85,12.3,29.533333333333335,24.0,5.0,48.766666666666666,56.0,31.683333333333334,8.033333333333333,26.4,16.0,8.233333333333333,6.266666666666667,29.0,7.0,16.0,12.4,24.416666666666668,10.016666666666667,19.716666666666665,20.85,4.1,12.0,3.683333333333333,7.066666666666666,31.0,27.683333333333334,40.25,59.733333333333334,34.11666666666667,9.983333333333333,41.166666666666664,46.0,51.38333333333333,8.0,22.583333333333332,3.9,23.433333333333334,22.233333333333334,16.0,56.61666666666667,37.9,20.15,8.0,7.0,12.0,7.883333333333334,11.916666666666666,4.0,7.1,17.516666666666666,6.0,24.55,15.816666666666666,11.733333333333333,3.0833333333333335,25.0,30.0,7.0,5.033333333333333,8.266666666666667,27.983333333333334,7.866666666666666,5.2,33.36666666666667,27.65,7.8,51.0,40.11666666666667,10.0,47.0,19.966666666666665,60.0,3.8666666666666667,20.366666666666667,5.2,6.0,39.56666666666667,8.633333333333333,5.0,12.9,5.033333333333333,18.016666666666666,10.4,11.0,5.0,8.283333333333333,14.0,14.0,12.4,28.383333333333333,20.0,35.21666666666667,18.466666666666665,3.0,8.816666666666666,24.316666666666666,37.0,3.2333333333333334,6.833333333333333,24.233333333333334,18.0,34.266666666666666,8.95,13.383333333333333,9.483333333333333,4.0,47.583333333333336,12.1,10.0,8.683333333333334,8.0,13.75,8.116666666666667,52.0,40.63333333333333,50.0,9.883333333333333,5.6,11.433333333333334,7.666666666666667,21.0,6.9,9.05,7.3,9.683333333333334,20.9,16.533333333333335,5.0,33.31666666666667,20.666666666666668,5.35,10.0,23.0,25.033333333333335,22.883333333333333,8.1,51.43333333333333,29.183333333333334,8.55,7.316666666666666,9.066666666666666,6.0,2.783333333333333,34.2,25.133333333333333,4.166666666666667,28.0,12.0,16.0,27.7,6.866666666666666,37.2],\"z\":[14.75,32.25,11.0,9.72,7.5,6.0,9.08,46.0,28.25,12.5,30.0,7.75,28.5,8.5,36.25,6.0,6.5,39.75,7.5,5.25,11.5,15.56,19.5,11.0,14.75,45.25,63.25,4.5,5.75,13.17,28.25,10.75,40.0,9.0,9.0,16.5,7.25,7.0,4.25,5.75,9.75,11.5,15.25,10.0,25.0,36.0,47.75,9.0,12.0,21.75,31.75,6.5,44.0,45.5,43.75,9.0,33.5,13.5,8.25,9.0,30.5,6.5,23.0,10.5,31.25,8.25,30.75,28.75,5.25,10.0,5.0,6.75,40.25,42.5,43.75,45.75,35.25,8.75,37.0,47.25,46.5,7.5,35.25,5.25,42.5,16.75,23.25,37.0,36.25,14.75,6.5,7.25,11.0,9.0,8.5,5.25,6.5,13.75,8.0,33.5,9.5,10.25,5.5,42.0,28.0,6.0,5.5,8.75,15.5,6.75,6.25,33.5,13.05,7.0,43.75,71.0,8.5,44.0,43.0,47.5,9.0,18.75,9.0,12.5,45.0,8.75,5.25,9.25,5.75,12.75,8.75,8.25,6.0,6.5,20.25,10.75,8.25,43.25,31.0,38.5,29.75,4.75,10.03,20.5,43.5,4.75,6.25,43.75,20.5,36.25,8.25,18.0,9.0,4.75,37.25,9.25,8.0,8.0,7.25,9.34,60.87,27.25,43.0,53.25,10.75,7.0,10.5,9.0,19.25,6.25,7.0,6.75,16.75,45.93,12.75,5.75,44.25,34.25,6.25,8.25,15.25,17.25,24.0,9.25,30.0,41.75,9.0,7.25,7.5,6.0,5.0,43.5,45.25,9.0,43.0,8.75,12.5,44.75,6.75,43.75],\"type\":\"scatter3d\"},{\"colorscale\":[[0,\"#89CFF0\"],[1,\"#FFDB58\"]],\"x\":[0.5200000000000001,14.80380184004647,33.90512911291879],\"y\":[1.3166666666666667,30.758333333333333,62.833333333333336],\"z\":[[5.088160728762547,38.4833781141291,82.05491695702075],[5.088160728762547,38.4833781141291,82.05491695702075],[5.088160728762547,38.4833781141291,82.05491695702075]],\"type\":\"surface\",\"scene\":\"scene\"},{\"hovertemplate\":\"x=%{x}\\u003cbr\\u003ey=%{y}\\u003cextra\\u003e\\u003c\\u002fextra\\u003e\",\"legendgroup\":\"\",\"line\":{\"color\":\"#ff0000\",\"dash\":\"solid\",\"width\":3},\"marker\":{\"symbol\":\"circle\"},\"mode\":\"lines\",\"name\":\"\",\"orientation\":\"v\",\"showlegend\":false,\"x\":[0,1,2,3,4,5,6,7,8,9,10,11,12,13,14,15,16,17,18,19],\"xaxis\":\"x\",\"y\":[61.101070404052734,37.81761932373047,15.903390884399414,4.525963306427002,3.7980103492736816,3.564502716064453,3.5099737644195557,3.4925382137298584,3.485323429107666,3.4813053607940674,3.4799442291259766,3.478257894515991,3.478074789047241,3.4775307178497314,3.4777891635894775,3.476896047592163,3.4775702953338623,3.477656364440918,3.477623701095581,3.477959394454956],\"yaxis\":\"y\",\"type\":\"scatter\"}],                        {\"template\":{\"data\":{\"histogram2dcontour\":[{\"type\":\"histogram2dcontour\",\"colorbar\":{\"outlinewidth\":0,\"ticks\":\"\"},\"colorscale\":[[0.0,\"#0d0887\"],[0.1111111111111111,\"#46039f\"],[0.2222222222222222,\"#7201a8\"],[0.3333333333333333,\"#9c179e\"],[0.4444444444444444,\"#bd3786\"],[0.5555555555555556,\"#d8576b\"],[0.6666666666666666,\"#ed7953\"],[0.7777777777777778,\"#fb9f3a\"],[0.8888888888888888,\"#fdca26\"],[1.0,\"#f0f921\"]]}],\"choropleth\":[{\"type\":\"choropleth\",\"colorbar\":{\"outlinewidth\":0,\"ticks\":\"\"}}],\"histogram2d\":[{\"type\":\"histogram2d\",\"colorbar\":{\"outlinewidth\":0,\"ticks\":\"\"},\"colorscale\":[[0.0,\"#0d0887\"],[0.1111111111111111,\"#46039f\"],[0.2222222222222222,\"#7201a8\"],[0.3333333333333333,\"#9c179e\"],[0.4444444444444444,\"#bd3786\"],[0.5555555555555556,\"#d8576b\"],[0.6666666666666666,\"#ed7953\"],[0.7777777777777778,\"#fb9f3a\"],[0.8888888888888888,\"#fdca26\"],[1.0,\"#f0f921\"]]}],\"heatmap\":[{\"type\":\"heatmap\",\"colorbar\":{\"outlinewidth\":0,\"ticks\":\"\"},\"colorscale\":[[0.0,\"#0d0887\"],[0.1111111111111111,\"#46039f\"],[0.2222222222222222,\"#7201a8\"],[0.3333333333333333,\"#9c179e\"],[0.4444444444444444,\"#bd3786\"],[0.5555555555555556,\"#d8576b\"],[0.6666666666666666,\"#ed7953\"],[0.7777777777777778,\"#fb9f3a\"],[0.8888888888888888,\"#fdca26\"],[1.0,\"#f0f921\"]]}],\"heatmapgl\":[{\"type\":\"heatmapgl\",\"colorbar\":{\"outlinewidth\":0,\"ticks\":\"\"},\"colorscale\":[[0.0,\"#0d0887\"],[0.1111111111111111,\"#46039f\"],[0.2222222222222222,\"#7201a8\"],[0.3333333333333333,\"#9c179e\"],[0.4444444444444444,\"#bd3786\"],[0.5555555555555556,\"#d8576b\"],[0.6666666666666666,\"#ed7953\"],[0.7777777777777778,\"#fb9f3a\"],[0.8888888888888888,\"#fdca26\"],[1.0,\"#f0f921\"]]}],\"contourcarpet\":[{\"type\":\"contourcarpet\",\"colorbar\":{\"outlinewidth\":0,\"ticks\":\"\"}}],\"contour\":[{\"type\":\"contour\",\"colorbar\":{\"outlinewidth\":0,\"ticks\":\"\"},\"colorscale\":[[0.0,\"#0d0887\"],[0.1111111111111111,\"#46039f\"],[0.2222222222222222,\"#7201a8\"],[0.3333333333333333,\"#9c179e\"],[0.4444444444444444,\"#bd3786\"],[0.5555555555555556,\"#d8576b\"],[0.6666666666666666,\"#ed7953\"],[0.7777777777777778,\"#fb9f3a\"],[0.8888888888888888,\"#fdca26\"],[1.0,\"#f0f921\"]]}],\"surface\":[{\"type\":\"surface\",\"colorbar\":{\"outlinewidth\":0,\"ticks\":\"\"},\"colorscale\":[[0.0,\"#0d0887\"],[0.1111111111111111,\"#46039f\"],[0.2222222222222222,\"#7201a8\"],[0.3333333333333333,\"#9c179e\"],[0.4444444444444444,\"#bd3786\"],[0.5555555555555556,\"#d8576b\"],[0.6666666666666666,\"#ed7953\"],[0.7777777777777778,\"#fb9f3a\"],[0.8888888888888888,\"#fdca26\"],[1.0,\"#f0f921\"]]}],\"mesh3d\":[{\"type\":\"mesh3d\",\"colorbar\":{\"outlinewidth\":0,\"ticks\":\"\"}}],\"scatter\":[{\"fillpattern\":{\"fillmode\":\"overlay\",\"size\":10,\"solidity\":0.2},\"type\":\"scatter\"}],\"parcoords\":[{\"type\":\"parcoords\",\"line\":{\"colorbar\":{\"outlinewidth\":0,\"ticks\":\"\"}}}],\"scatterpolargl\":[{\"type\":\"scatterpolargl\",\"marker\":{\"colorbar\":{\"outlinewidth\":0,\"ticks\":\"\"}}}],\"bar\":[{\"error_x\":{\"color\":\"#2a3f5f\"},\"error_y\":{\"color\":\"#2a3f5f\"},\"marker\":{\"line\":{\"color\":\"#E5ECF6\",\"width\":0.5},\"pattern\":{\"fillmode\":\"overlay\",\"size\":10,\"solidity\":0.2}},\"type\":\"bar\"}],\"scattergeo\":[{\"type\":\"scattergeo\",\"marker\":{\"colorbar\":{\"outlinewidth\":0,\"ticks\":\"\"}}}],\"scatterpolar\":[{\"type\":\"scatterpolar\",\"marker\":{\"colorbar\":{\"outlinewidth\":0,\"ticks\":\"\"}}}],\"histogram\":[{\"marker\":{\"pattern\":{\"fillmode\":\"overlay\",\"size\":10,\"solidity\":0.2}},\"type\":\"histogram\"}],\"scattergl\":[{\"type\":\"scattergl\",\"marker\":{\"colorbar\":{\"outlinewidth\":0,\"ticks\":\"\"}}}],\"scatter3d\":[{\"type\":\"scatter3d\",\"line\":{\"colorbar\":{\"outlinewidth\":0,\"ticks\":\"\"}},\"marker\":{\"colorbar\":{\"outlinewidth\":0,\"ticks\":\"\"}}}],\"scattermapbox\":[{\"type\":\"scattermapbox\",\"marker\":{\"colorbar\":{\"outlinewidth\":0,\"ticks\":\"\"}}}],\"scatterternary\":[{\"type\":\"scatterternary\",\"marker\":{\"colorbar\":{\"outlinewidth\":0,\"ticks\":\"\"}}}],\"scattercarpet\":[{\"type\":\"scattercarpet\",\"marker\":{\"colorbar\":{\"outlinewidth\":0,\"ticks\":\"\"}}}],\"carpet\":[{\"aaxis\":{\"endlinecolor\":\"#2a3f5f\",\"gridcolor\":\"white\",\"linecolor\":\"white\",\"minorgridcolor\":\"white\",\"startlinecolor\":\"#2a3f5f\"},\"baxis\":{\"endlinecolor\":\"#2a3f5f\",\"gridcolor\":\"white\",\"linecolor\":\"white\",\"minorgridcolor\":\"white\",\"startlinecolor\":\"#2a3f5f\"},\"type\":\"carpet\"}],\"table\":[{\"cells\":{\"fill\":{\"color\":\"#EBF0F8\"},\"line\":{\"color\":\"white\"}},\"header\":{\"fill\":{\"color\":\"#C8D4E3\"},\"line\":{\"color\":\"white\"}},\"type\":\"table\"}],\"barpolar\":[{\"marker\":{\"line\":{\"color\":\"#E5ECF6\",\"width\":0.5},\"pattern\":{\"fillmode\":\"overlay\",\"size\":10,\"solidity\":0.2}},\"type\":\"barpolar\"}],\"pie\":[{\"automargin\":true,\"type\":\"pie\"}]},\"layout\":{\"autotypenumbers\":\"strict\",\"colorway\":[\"#636efa\",\"#EF553B\",\"#00cc96\",\"#ab63fa\",\"#FFA15A\",\"#19d3f3\",\"#FF6692\",\"#B6E880\",\"#FF97FF\",\"#FECB52\"],\"font\":{\"color\":\"#2a3f5f\"},\"hovermode\":\"closest\",\"hoverlabel\":{\"align\":\"left\"},\"paper_bgcolor\":\"white\",\"plot_bgcolor\":\"#E5ECF6\",\"polar\":{\"bgcolor\":\"#E5ECF6\",\"angularaxis\":{\"gridcolor\":\"white\",\"linecolor\":\"white\",\"ticks\":\"\"},\"radialaxis\":{\"gridcolor\":\"white\",\"linecolor\":\"white\",\"ticks\":\"\"}},\"ternary\":{\"bgcolor\":\"#E5ECF6\",\"aaxis\":{\"gridcolor\":\"white\",\"linecolor\":\"white\",\"ticks\":\"\"},\"baxis\":{\"gridcolor\":\"white\",\"linecolor\":\"white\",\"ticks\":\"\"},\"caxis\":{\"gridcolor\":\"white\",\"linecolor\":\"white\",\"ticks\":\"\"}},\"coloraxis\":{\"colorbar\":{\"outlinewidth\":0,\"ticks\":\"\"}},\"colorscale\":{\"sequential\":[[0.0,\"#0d0887\"],[0.1111111111111111,\"#46039f\"],[0.2222222222222222,\"#7201a8\"],[0.3333333333333333,\"#9c179e\"],[0.4444444444444444,\"#bd3786\"],[0.5555555555555556,\"#d8576b\"],[0.6666666666666666,\"#ed7953\"],[0.7777777777777778,\"#fb9f3a\"],[0.8888888888888888,\"#fdca26\"],[1.0,\"#f0f921\"]],\"sequentialminus\":[[0.0,\"#0d0887\"],[0.1111111111111111,\"#46039f\"],[0.2222222222222222,\"#7201a8\"],[0.3333333333333333,\"#9c179e\"],[0.4444444444444444,\"#bd3786\"],[0.5555555555555556,\"#d8576b\"],[0.6666666666666666,\"#ed7953\"],[0.7777777777777778,\"#fb9f3a\"],[0.8888888888888888,\"#fdca26\"],[1.0,\"#f0f921\"]],\"diverging\":[[0,\"#8e0152\"],[0.1,\"#c51b7d\"],[0.2,\"#de77ae\"],[0.3,\"#f1b6da\"],[0.4,\"#fde0ef\"],[0.5,\"#f7f7f7\"],[0.6,\"#e6f5d0\"],[0.7,\"#b8e186\"],[0.8,\"#7fbc41\"],[0.9,\"#4d9221\"],[1,\"#276419\"]]},\"xaxis\":{\"gridcolor\":\"white\",\"linecolor\":\"white\",\"ticks\":\"\",\"title\":{\"standoff\":15},\"zerolinecolor\":\"white\",\"automargin\":true,\"zerolinewidth\":2},\"yaxis\":{\"gridcolor\":\"white\",\"linecolor\":\"white\",\"ticks\":\"\",\"title\":{\"standoff\":15},\"zerolinecolor\":\"white\",\"automargin\":true,\"zerolinewidth\":2},\"scene\":{\"xaxis\":{\"backgroundcolor\":\"#E5ECF6\",\"gridcolor\":\"white\",\"linecolor\":\"white\",\"showbackground\":true,\"ticks\":\"\",\"zerolinecolor\":\"white\",\"gridwidth\":2},\"yaxis\":{\"backgroundcolor\":\"#E5ECF6\",\"gridcolor\":\"white\",\"linecolor\":\"white\",\"showbackground\":true,\"ticks\":\"\",\"zerolinecolor\":\"white\",\"gridwidth\":2},\"zaxis\":{\"backgroundcolor\":\"#E5ECF6\",\"gridcolor\":\"white\",\"linecolor\":\"white\",\"showbackground\":true,\"ticks\":\"\",\"zerolinecolor\":\"white\",\"gridwidth\":2}},\"shapedefaults\":{\"line\":{\"color\":\"#2a3f5f\"}},\"annotationdefaults\":{\"arrowcolor\":\"#2a3f5f\",\"arrowhead\":0,\"arrowwidth\":1},\"geo\":{\"bgcolor\":\"white\",\"landcolor\":\"#E5ECF6\",\"subunitcolor\":\"white\",\"showland\":true,\"showlakes\":true,\"lakecolor\":\"white\"},\"title\":{\"x\":0.05},\"mapbox\":{\"style\":\"light\"}}},\"xaxis\":{\"anchor\":\"y\",\"domain\":[0.0,0.45],\"title\":{\"text\":\"Epoch\"}},\"yaxis\":{\"anchor\":\"x\",\"domain\":[0.0,1.0],\"title\":{\"text\":\"Root Mean Squared Error\"},\"range\":[2.7815168380737307,61.101070404052734]},\"scene\":{\"domain\":{\"x\":[0.55,1.0],\"y\":[0.0,1.0]},\"xaxis\":{\"title\":{\"text\":\"TRIP_MILES\"}},\"yaxis\":{\"title\":{\"text\":\"TRIP_MINUTES\"}},\"zaxis\":{\"title\":{\"text\":\"FARE\"}}},\"annotations\":[{\"font\":{\"size\":16},\"showarrow\":false,\"text\":\"Loss Curve\",\"x\":0.225,\"xanchor\":\"center\",\"xref\":\"paper\",\"y\":1.0,\"yanchor\":\"bottom\",\"yref\":\"paper\"},{\"font\":{\"size\":16},\"showarrow\":false,\"text\":\"Model Plot\",\"x\":0.775,\"xanchor\":\"center\",\"xref\":\"paper\",\"y\":1.0,\"yanchor\":\"bottom\",\"yref\":\"paper\"}]},                        {\"responsive\": true}                    ).then(function(){\n",
              "                            \n",
              "var gd = document.getElementById('5cd2e1d2-6fab-4804-8e3c-fc10f00bceb8');\n",
              "var x = new MutationObserver(function (mutations, observer) {{\n",
              "        var display = window.getComputedStyle(gd).display;\n",
              "        if (!display || display === 'none') {{\n",
              "            console.log([gd, 'removed!']);\n",
              "            Plotly.purge(gd);\n",
              "            observer.disconnect();\n",
              "        }}\n",
              "}});\n",
              "\n",
              "// Listen for the removal of the full notebook cells\n",
              "var notebookContainer = gd.closest('#notebook-container');\n",
              "if (notebookContainer) {{\n",
              "    x.observe(notebookContainer, {childList: true});\n",
              "}}\n",
              "\n",
              "// Listen for the clearing of the current output cell\n",
              "var outputEl = gd.closest('.output');\n",
              "if (outputEl) {{\n",
              "    x.observe(outputEl, {childList: true});\n",
              "}}\n",
              "\n",
              "                        })                };                            </script>        </div>\n",
              "</body>\n",
              "</html>"
            ]
          },
          "metadata": {}
        }
      ],
      "source": [
        "#@title Code - Experiment 3\n",
        "\n",
        "# The following variables are the hyperparameters.\n",
        "learning_rate = 0.001\n",
        "epochs = 20\n",
        "batch_size = 50\n",
        "\n",
        "training_df.loc[:, 'TRIP_MINUTES'] = training_df['TRIP_SECONDS']/60\n",
        "\n",
        "features = ['TRIP_MILES', 'TRIP_MINUTES']\n",
        "label = 'FARE'\n",
        "\n",
        "model_2 = run_experiment(training_df, features, label, learning_rate, epochs, batch_size)"
      ]
    },
    {
      "cell_type": "code",
      "execution_count": 17,
      "metadata": {
        "cellView": "form",
        "id": "uFkKK5t33xSX",
        "outputId": "c2f4bf11-cc80-4b65-ac32-16c9dbf217a0",
        "colab": {
          "base_uri": "https://localhost:8080/"
        }
      },
      "outputs": [
        {
          "output_type": "stream",
          "name": "stdout",
          "text": [
            "\n",
            "To answer this question for your specific training runs, compare the RMSE for\n",
            "each model. For example, if the RMSE for the model trained with one feature was\n",
            "3.7457 and the RMSE for the model with two features is 3.4787, that means that\n",
            "on average the model with two features makes predictions that are about $0.27\n",
            "closer to the observed fare.\n",
            "\n",
            "\n",
            "\n",
            "When training a model with more than one feature, it is important that all\n",
            "numeric values are roughly on the same scale. In this case, TRIP_SECONDS and\n",
            "TRIP_MILES do not meet this criteria. The mean value for TRIP_MILES is 8.3 and\n",
            "the mean for TRIP_SECONDS is 1320; that is two orders of magnitude difference.\n",
            "Converting the trip duration to minutes helps during training because in puts\n",
            "values for both features on a more comparable scale. Of course, this is not the\n",
            "only way to scale values before training, but you will learn about that in\n",
            "another module.\n",
            "\n",
            "\n",
            "\n",
            "In reality, Chicago taxi cabs use a documented formula to determine cab fares.\n",
            "For a single passenger paying cash, the fare is calculated like this:\n",
            "\n",
            "FARE = 2.25 * TRIP_MILES + 0.12 * TRIP_MINUTES + 3.25\n",
            "\n",
            "Typically with machine learning problems you would not know the 'correct'\n",
            "formula, but in this case you can this knowledge to evaluate your model. Take a\n",
            "look at your model output (the weights and bias) and determine how well it\n",
            "matches the ground truth fare calculation. You should find that the model is\n",
            "roughly close to this formula.\n",
            "\n"
          ]
        }
      ],
      "source": [
        "#@title Double-click to view answers for training with two features\n",
        "\n",
        "# Does the model with two features produce better results than one using a\n",
        "# single feature?\n",
        "# -----------------------------------------------------------------------------\n",
        "answer = '''\n",
        "To answer this question for your specific training runs, compare the RMSE for\n",
        "each model. For example, if the RMSE for the model trained with one feature was\n",
        "3.7457 and the RMSE for the model with two features is 3.4787, that means that\n",
        "on average the model with two features makes predictions that are about $0.27\n",
        "closer to the observed fare.\n",
        "\n",
        "'''\n",
        "print(answer)\n",
        "\n",
        "# Does it make a difference if you use TRIP_SECONDS instead of TRIP_MILES?\n",
        "# -----------------------------------------------------------------------------\n",
        "answer = '''\n",
        "When training a model with more than one feature, it is important that all\n",
        "numeric values are roughly on the same scale. In this case, TRIP_SECONDS and\n",
        "TRIP_MILES do not meet this criteria. The mean value for TRIP_MILES is 8.3 and\n",
        "the mean for TRIP_SECONDS is 1320; that is two orders of magnitude difference.\n",
        "Converting the trip duration to minutes helps during training because in puts\n",
        "values for both features on a more comparable scale. Of course, this is not the\n",
        "only way to scale values before training, but you will learn about that in\n",
        "another module.\n",
        "\n",
        "'''\n",
        "print(answer)\n",
        "\n",
        "# How well do you think the model comes to the ground truth fare calculation for\n",
        "# Chicago taxi trips?\n",
        "# -----------------------------------------------------------------------------\n",
        "answer = '''\n",
        "In reality, Chicago taxi cabs use a documented formula to determine cab fares.\n",
        "For a single passenger paying cash, the fare is calculated like this:\n",
        "\n",
        "FARE = 2.25 * TRIP_MILES + 0.12 * TRIP_MINUTES + 3.25\n",
        "\n",
        "Typically with machine learning problems you would not know the 'correct'\n",
        "formula, but in this case you can this knowledge to evaluate your model. Take a\n",
        "look at your model output (the weights and bias) and determine how well it\n",
        "matches the ground truth fare calculation. You should find that the model is\n",
        "roughly close to this formula.\n",
        "'''\n",
        "print(answer)"
      ]
    },
    {
      "cell_type": "markdown",
      "metadata": {
        "id": "MzMfgxldSMGK"
      },
      "source": [
        "# Part 4 - Validate Model\n",
        "\n",
        "\n",
        "---\n",
        "\n"
      ]
    },
    {
      "cell_type": "markdown",
      "metadata": {
        "id": "_yW7nVxlO1WY"
      },
      "source": [
        "## Use the model to make predictions\n",
        "\n",
        "Now that you have a trained model, you can use the model to make predictions. In practice, you should make predictions on examples that are not used during training. However, for this exercise, you'll just work with a subset of the same training dataset. In another Colab exercise you will explore ways to make predictions on examples not used in training.\n",
        "\n",
        "**Instructions**\n",
        "\n",
        "1. Run the **Define functions to make predictions** code cell.\n",
        "1. Run the **Make predictions** code cell.\n",
        "1. Review the predictions in the output.\n",
        "1. **Check your understanding** by answering these questions:\n",
        "  * How close is the predicted value to the label value? In other words, does your model accurately predict the fare for a taxi ride?"
      ]
    },
    {
      "cell_type": "code",
      "execution_count": null,
      "metadata": {
        "cellView": "form",
        "id": "XdNxv3j8PGnr"
      },
      "outputs": [],
      "source": [
        "#@title Code - Define functions to make predictions\n",
        "def format_currency(x):\n",
        "  return \"${:.2f}\".format(x)\n",
        "\n",
        "def build_batch(df, batch_size):\n",
        "  batch = df.sample(n=batch_size).copy()\n",
        "  batch.set_index(np.arange(batch_size), inplace=True)\n",
        "  return batch\n",
        "\n",
        "def predict_fare(model, df, features, label, batch_size=50):\n",
        "  batch = build_batch(df, batch_size)\n",
        "  predicted_values = model.predict_on_batch(x=batch.loc[:, features].values)\n",
        "\n",
        "  data = {\"PREDICTED_FARE\": [], \"OBSERVED_FARE\": [], \"L1_LOSS\": [],\n",
        "          features[0]: [], features[1]: []}\n",
        "  for i in range(batch_size):\n",
        "    predicted = predicted_values[i][0]\n",
        "    observed = batch.at[i, label]\n",
        "    data[\"PREDICTED_FARE\"].append(format_currency(predicted))\n",
        "    data[\"OBSERVED_FARE\"].append(format_currency(observed))\n",
        "    data[\"L1_LOSS\"].append(format_currency(abs(observed - predicted)))\n",
        "    data[features[0]].append(batch.at[i, features[0]])\n",
        "    data[features[1]].append(\"{:.2f}\".format(batch.at[i, features[1]]))\n",
        "\n",
        "  output_df = pd.DataFrame(data)\n",
        "  return output_df\n",
        "\n",
        "def show_predictions(output):\n",
        "  header = \"-\" * 80\n",
        "  banner = header + \"\\n\" + \"|\" + \"PREDICTIONS\".center(78) + \"|\" + \"\\n\" + header\n",
        "  print(banner)\n",
        "  print(output)\n",
        "  return"
      ]
    },
    {
      "cell_type": "code",
      "execution_count": null,
      "metadata": {
        "cellView": "form",
        "id": "PK3oO2kYV8m0"
      },
      "outputs": [],
      "source": [
        "#@title Code - Make predictions\n",
        "\n",
        "output = predict_fare(model_2, training_df, features, label)\n",
        "show_predictions(output)"
      ]
    },
    {
      "cell_type": "code",
      "execution_count": null,
      "metadata": {
        "cellView": "form",
        "id": "6sjix7lXI7xT"
      },
      "outputs": [],
      "source": [
        "#@title Double-click to view answers for validate model\n",
        "\n",
        "# How close is the predicted value to the label value?\n",
        "# -----------------------------------------------------------------------------\n",
        "answer = '''\n",
        "Based on a random sampling of examples, the model seems to do pretty well\n",
        "predicting the fare for a taxi ride. Most of the predicted values do not vary\n",
        "significantly from the observed value. You should be able to see this by looking\n",
        "at the column L1_LOSS = |observed - predicted|.\n",
        "'''\n",
        "print(answer)"
      ]
    }
  ],
  "metadata": {
    "colab": {
      "collapsed_sections": [
        "sgR4YRjj5T-b"
      ],
      "provenance": []
    },
    "kernelspec": {
      "display_name": "Python 3",
      "name": "python3"
    },
    "language_info": {
      "name": "python"
    }
  },
  "nbformat": 4,
  "nbformat_minor": 0
}